{
  "nbformat": 4,
  "nbformat_minor": 0,
  "metadata": {
    "colab": {
      "name": "Capstone 3 Senate Voting Modeling.ipynb",
      "provenance": [],
      "collapsed_sections": [],
      "authorship_tag": "ABX9TyNLIFNxUiIooyMkjTRm9tmp",
      "include_colab_link": true
    },
    "kernelspec": {
      "name": "python3",
      "display_name": "Python 3"
    },
    "language_info": {
      "name": "python"
    }
  },
  "cells": [
    {
      "cell_type": "markdown",
      "metadata": {
        "id": "view-in-github",
        "colab_type": "text"
      },
      "source": [
        "<a href=\"https://colab.research.google.com/github/robpalinic/Springboard-Capstone-Three/blob/main/Capstone_3_Senate_Voting_Modeling.ipynb\" target=\"_parent\"><img src=\"https://colab.research.google.com/assets/colab-badge.svg\" alt=\"Open In Colab\"/></a>"
      ]
    },
    {
      "cell_type": "markdown",
      "metadata": {
        "id": "iKOVH7rl4AG6"
      },
      "source": [
        "# **US Senate Voting Clusters**"
      ]
    },
    {
      "cell_type": "markdown",
      "metadata": {
        "id": "8Jjv1-Sg4EWx"
      },
      "source": [
        "## **1. Data Acquisition**\n",
        "\n",
        "All data was scraped from the US Senate website, https://www.senate.gov/legislative/LIS/roll_call_votes/vote1171/vote_117_1_00001.xml using BeautifulSoup.  I initially scraped the HTML version of the site, but had two major problems.  First, some extraneous data was entered which needed to be cleaned.  Secondly, the scrape was unreliable, and would not always work.  The XML site was both more reliable and provided cleaner data."
      ]
    },
    {
      "cell_type": "code",
      "metadata": {
        "id": "hefe_DENGxo5"
      },
      "source": [
        "import requests\n",
        "import time\n",
        "from bs4 import BeautifulSoup\n",
        "import lxml\n",
        "import numpy as np\n",
        "import pandas as pd\n",
        "import matplotlib.pyplot as plt\n",
        "import seaborn as sns\n",
        "from sklearn.decomposition import PCA\n",
        "from sklearn.cluster import KMeans"
      ],
      "execution_count": null,
      "outputs": []
    },
    {
      "cell_type": "code",
      "metadata": {
        "id": "Qlmt66vKJB69"
      },
      "source": [
        "def scrape_senate(congress, vote):\n",
        "  \n",
        "  if vote<10:\n",
        "    add = '000'\n",
        "  elif vote<100:\n",
        "    add = '00'\n",
        "  else:\n",
        "    add = '0' \n",
        "\n",
        "  URL = 'https://www.senate.gov/legislative/LIS/roll_call_votes/vote' + str(congress) + '1/vote_' + str(congress) + '_1_0' + str(add) + str(vote) + '.xml'\n",
        "\n",
        "  page = requests.get(URL)\n",
        "  soup = BeautifulSoup(page.content, \"xml\")\n",
        "  members = soup.find_all('member')\n",
        "  senators = {}\n",
        "  for member in members:\n",
        "    last = member.find('member_full')\n",
        "    last_name = last.get_text()\n",
        "    vote = member.find('vote_cast')\n",
        "    vote_result = vote.get_text()\n",
        "    senators[last_name] = vote_result\n",
        "  return senators\n"
      ],
      "execution_count": null,
      "outputs": []
    },
    {
      "cell_type": "code",
      "metadata": {
        "id": "aup_BoZwMheW"
      },
      "source": [
        "votes = {}\n",
        "for vote in range(1,266):\n",
        "  congress = 117\n",
        "  results = scrape_senate(congress, vote)\n",
        "  votes[vote] = results\n",
        "voting = pd.DataFrame(votes)"
      ],
      "execution_count": null,
      "outputs": []
    },
    {
      "cell_type": "code",
      "metadata": {
        "colab": {
          "base_uri": "https://localhost:8080/",
          "height": 609
        },
        "id": "Igkqt1puNqjt",
        "outputId": "4af5c37f-cd5b-4ff9-e281-b50e84b498fd"
      },
      "source": [
        "voting"
      ],
      "execution_count": null,
      "outputs": [
        {
          "output_type": "execute_result",
          "data": {
            "text/html": [
              "<div>\n",
              "<style scoped>\n",
              "    .dataframe tbody tr th:only-of-type {\n",
              "        vertical-align: middle;\n",
              "    }\n",
              "\n",
              "    .dataframe tbody tr th {\n",
              "        vertical-align: top;\n",
              "    }\n",
              "\n",
              "    .dataframe thead th {\n",
              "        text-align: right;\n",
              "    }\n",
              "</style>\n",
              "<table border=\"1\" class=\"dataframe\">\n",
              "  <thead>\n",
              "    <tr style=\"text-align: right;\">\n",
              "      <th></th>\n",
              "      <th>1</th>\n",
              "      <th>2</th>\n",
              "      <th>3</th>\n",
              "      <th>4</th>\n",
              "      <th>5</th>\n",
              "      <th>6</th>\n",
              "      <th>7</th>\n",
              "      <th>8</th>\n",
              "      <th>9</th>\n",
              "      <th>10</th>\n",
              "      <th>11</th>\n",
              "      <th>12</th>\n",
              "      <th>13</th>\n",
              "      <th>14</th>\n",
              "      <th>15</th>\n",
              "      <th>16</th>\n",
              "      <th>17</th>\n",
              "      <th>18</th>\n",
              "      <th>19</th>\n",
              "      <th>20</th>\n",
              "      <th>21</th>\n",
              "      <th>22</th>\n",
              "      <th>23</th>\n",
              "      <th>24</th>\n",
              "      <th>25</th>\n",
              "      <th>26</th>\n",
              "      <th>27</th>\n",
              "      <th>28</th>\n",
              "      <th>29</th>\n",
              "      <th>30</th>\n",
              "      <th>31</th>\n",
              "      <th>32</th>\n",
              "      <th>33</th>\n",
              "      <th>34</th>\n",
              "      <th>35</th>\n",
              "      <th>36</th>\n",
              "      <th>37</th>\n",
              "      <th>38</th>\n",
              "      <th>39</th>\n",
              "      <th>40</th>\n",
              "      <th>...</th>\n",
              "      <th>226</th>\n",
              "      <th>227</th>\n",
              "      <th>228</th>\n",
              "      <th>229</th>\n",
              "      <th>230</th>\n",
              "      <th>231</th>\n",
              "      <th>232</th>\n",
              "      <th>233</th>\n",
              "      <th>234</th>\n",
              "      <th>235</th>\n",
              "      <th>236</th>\n",
              "      <th>237</th>\n",
              "      <th>238</th>\n",
              "      <th>239</th>\n",
              "      <th>240</th>\n",
              "      <th>241</th>\n",
              "      <th>242</th>\n",
              "      <th>243</th>\n",
              "      <th>244</th>\n",
              "      <th>245</th>\n",
              "      <th>246</th>\n",
              "      <th>247</th>\n",
              "      <th>248</th>\n",
              "      <th>249</th>\n",
              "      <th>250</th>\n",
              "      <th>251</th>\n",
              "      <th>252</th>\n",
              "      <th>253</th>\n",
              "      <th>254</th>\n",
              "      <th>255</th>\n",
              "      <th>256</th>\n",
              "      <th>257</th>\n",
              "      <th>258</th>\n",
              "      <th>259</th>\n",
              "      <th>260</th>\n",
              "      <th>261</th>\n",
              "      <th>262</th>\n",
              "      <th>263</th>\n",
              "      <th>264</th>\n",
              "      <th>265</th>\n",
              "    </tr>\n",
              "  </thead>\n",
              "  <tbody>\n",
              "    <tr>\n",
              "      <th>Baldwin (D-WI)</th>\n",
              "      <td>Nay</td>\n",
              "      <td>Nay</td>\n",
              "      <td>Yea</td>\n",
              "      <td>Nay</td>\n",
              "      <td>Yea</td>\n",
              "      <td>Yea</td>\n",
              "      <td>Yea</td>\n",
              "      <td>Yea</td>\n",
              "      <td>Yea</td>\n",
              "      <td>Yea</td>\n",
              "      <td>Yea</td>\n",
              "      <td>Yea</td>\n",
              "      <td>Yea</td>\n",
              "      <td>Yea</td>\n",
              "      <td>Nay</td>\n",
              "      <td>Yea</td>\n",
              "      <td>Nay</td>\n",
              "      <td>Nay</td>\n",
              "      <td>Yea</td>\n",
              "      <td>Nay</td>\n",
              "      <td>Yea</td>\n",
              "      <td>Yea</td>\n",
              "      <td>Nay</td>\n",
              "      <td>Nay</td>\n",
              "      <td>Nay</td>\n",
              "      <td>Yea</td>\n",
              "      <td>Yea</td>\n",
              "      <td>Nay</td>\n",
              "      <td>Nay</td>\n",
              "      <td>Yea</td>\n",
              "      <td>Nay</td>\n",
              "      <td>Nay</td>\n",
              "      <td>Nay</td>\n",
              "      <td>Nay</td>\n",
              "      <td>Yea</td>\n",
              "      <td>Nay</td>\n",
              "      <td>Nay</td>\n",
              "      <td>Nay</td>\n",
              "      <td>Nay</td>\n",
              "      <td>Nay</td>\n",
              "      <td>...</td>\n",
              "      <td>Yea</td>\n",
              "      <td>Yea</td>\n",
              "      <td>Yea</td>\n",
              "      <td>Yea</td>\n",
              "      <td>Yea</td>\n",
              "      <td>Yea</td>\n",
              "      <td>Yea</td>\n",
              "      <td>Yea</td>\n",
              "      <td>Yea</td>\n",
              "      <td>Yea</td>\n",
              "      <td>Yea</td>\n",
              "      <td>Yea</td>\n",
              "      <td>Yea</td>\n",
              "      <td>Yea</td>\n",
              "      <td>Yea</td>\n",
              "      <td>Yea</td>\n",
              "      <td>Yea</td>\n",
              "      <td>Yea</td>\n",
              "      <td>Yea</td>\n",
              "      <td>Yea</td>\n",
              "      <td>Yea</td>\n",
              "      <td>Yea</td>\n",
              "      <td>Yea</td>\n",
              "      <td>Yea</td>\n",
              "      <td>Nay</td>\n",
              "      <td>Yea</td>\n",
              "      <td>Yea</td>\n",
              "      <td>Yea</td>\n",
              "      <td>Yea</td>\n",
              "      <td>Yea</td>\n",
              "      <td>Yea</td>\n",
              "      <td>Yea</td>\n",
              "      <td>Yea</td>\n",
              "      <td>Yea</td>\n",
              "      <td>Yea</td>\n",
              "      <td>Yea</td>\n",
              "      <td>Yea</td>\n",
              "      <td>Yea</td>\n",
              "      <td>Yea</td>\n",
              "      <td>Yea</td>\n",
              "    </tr>\n",
              "    <tr>\n",
              "      <th>Barrasso (R-WY)</th>\n",
              "      <td>Nay</td>\n",
              "      <td>Nay</td>\n",
              "      <td>Yea</td>\n",
              "      <td>Nay</td>\n",
              "      <td>Yea</td>\n",
              "      <td>Nay</td>\n",
              "      <td>Nay</td>\n",
              "      <td>Nay</td>\n",
              "      <td>Yea</td>\n",
              "      <td>Nay</td>\n",
              "      <td>Yea</td>\n",
              "      <td>Nay</td>\n",
              "      <td>Nay</td>\n",
              "      <td>Yea</td>\n",
              "      <td>Yea</td>\n",
              "      <td>Yea</td>\n",
              "      <td>Yea</td>\n",
              "      <td>Yea</td>\n",
              "      <td>Yea</td>\n",
              "      <td>Yea</td>\n",
              "      <td>Yea</td>\n",
              "      <td>Yea</td>\n",
              "      <td>Yea</td>\n",
              "      <td>Yea</td>\n",
              "      <td>Yea</td>\n",
              "      <td>Yea</td>\n",
              "      <td>Yea</td>\n",
              "      <td>Yea</td>\n",
              "      <td>Yea</td>\n",
              "      <td>Yea</td>\n",
              "      <td>Yea</td>\n",
              "      <td>Yea</td>\n",
              "      <td>Yea</td>\n",
              "      <td>Yea</td>\n",
              "      <td>Yea</td>\n",
              "      <td>Yea</td>\n",
              "      <td>Yea</td>\n",
              "      <td>Yea</td>\n",
              "      <td>Nay</td>\n",
              "      <td>Yea</td>\n",
              "      <td>...</td>\n",
              "      <td>Nay</td>\n",
              "      <td>Nay</td>\n",
              "      <td>Yea</td>\n",
              "      <td>Nay</td>\n",
              "      <td>Yea</td>\n",
              "      <td>Nay</td>\n",
              "      <td>Nay</td>\n",
              "      <td>Nay</td>\n",
              "      <td>Nay</td>\n",
              "      <td>Nay</td>\n",
              "      <td>Nay</td>\n",
              "      <td>Nay</td>\n",
              "      <td>Yea</td>\n",
              "      <td>Yea</td>\n",
              "      <td>Nay</td>\n",
              "      <td>Nay</td>\n",
              "      <td>Nay</td>\n",
              "      <td>Nay</td>\n",
              "      <td>Nay</td>\n",
              "      <td>Nay</td>\n",
              "      <td>Nay</td>\n",
              "      <td>Nay</td>\n",
              "      <td>Nay</td>\n",
              "      <td>Nay</td>\n",
              "      <td>Nay</td>\n",
              "      <td>Yea</td>\n",
              "      <td>Nay</td>\n",
              "      <td>Nay</td>\n",
              "      <td>Nay</td>\n",
              "      <td>Nay</td>\n",
              "      <td>Nay</td>\n",
              "      <td>Nay</td>\n",
              "      <td>Nay</td>\n",
              "      <td>Nay</td>\n",
              "      <td>Nay</td>\n",
              "      <td>Nay</td>\n",
              "      <td>Nay</td>\n",
              "      <td>Yea</td>\n",
              "      <td>Nay</td>\n",
              "      <td>Yea</td>\n",
              "    </tr>\n",
              "    <tr>\n",
              "      <th>Bennet (D-CO)</th>\n",
              "      <td>Nay</td>\n",
              "      <td>Nay</td>\n",
              "      <td>Yea</td>\n",
              "      <td>Yea</td>\n",
              "      <td>Yea</td>\n",
              "      <td>Yea</td>\n",
              "      <td>Yea</td>\n",
              "      <td>Yea</td>\n",
              "      <td>Yea</td>\n",
              "      <td>Yea</td>\n",
              "      <td>Yea</td>\n",
              "      <td>Yea</td>\n",
              "      <td>Yea</td>\n",
              "      <td>Yea</td>\n",
              "      <td>Nay</td>\n",
              "      <td>Yea</td>\n",
              "      <td>Nay</td>\n",
              "      <td>Nay</td>\n",
              "      <td>Yea</td>\n",
              "      <td>Nay</td>\n",
              "      <td>Yea</td>\n",
              "      <td>Yea</td>\n",
              "      <td>Nay</td>\n",
              "      <td>Nay</td>\n",
              "      <td>Nay</td>\n",
              "      <td>Yea</td>\n",
              "      <td>Yea</td>\n",
              "      <td>Yea</td>\n",
              "      <td>Nay</td>\n",
              "      <td>Yea</td>\n",
              "      <td>Nay</td>\n",
              "      <td>Nay</td>\n",
              "      <td>Nay</td>\n",
              "      <td>Nay</td>\n",
              "      <td>Yea</td>\n",
              "      <td>Nay</td>\n",
              "      <td>Nay</td>\n",
              "      <td>Nay</td>\n",
              "      <td>Nay</td>\n",
              "      <td>Nay</td>\n",
              "      <td>...</td>\n",
              "      <td>Yea</td>\n",
              "      <td>Yea</td>\n",
              "      <td>Yea</td>\n",
              "      <td>Yea</td>\n",
              "      <td>Yea</td>\n",
              "      <td>Yea</td>\n",
              "      <td>Yea</td>\n",
              "      <td>Yea</td>\n",
              "      <td>Yea</td>\n",
              "      <td>Yea</td>\n",
              "      <td>Yea</td>\n",
              "      <td>Yea</td>\n",
              "      <td>Yea</td>\n",
              "      <td>Yea</td>\n",
              "      <td>Yea</td>\n",
              "      <td>Yea</td>\n",
              "      <td>Yea</td>\n",
              "      <td>Yea</td>\n",
              "      <td>Yea</td>\n",
              "      <td>Yea</td>\n",
              "      <td>Yea</td>\n",
              "      <td>Yea</td>\n",
              "      <td>Yea</td>\n",
              "      <td>Yea</td>\n",
              "      <td>Nay</td>\n",
              "      <td>Yea</td>\n",
              "      <td>Yea</td>\n",
              "      <td>Yea</td>\n",
              "      <td>Yea</td>\n",
              "      <td>Yea</td>\n",
              "      <td>Yea</td>\n",
              "      <td>Yea</td>\n",
              "      <td>Yea</td>\n",
              "      <td>Yea</td>\n",
              "      <td>Yea</td>\n",
              "      <td>Yea</td>\n",
              "      <td>Yea</td>\n",
              "      <td>Yea</td>\n",
              "      <td>Yea</td>\n",
              "      <td>Yea</td>\n",
              "    </tr>\n",
              "    <tr>\n",
              "      <th>Blackburn (R-TN)</th>\n",
              "      <td>Nay</td>\n",
              "      <td>Nay</td>\n",
              "      <td>Nay</td>\n",
              "      <td>Nay</td>\n",
              "      <td>Yea</td>\n",
              "      <td>Nay</td>\n",
              "      <td>Nay</td>\n",
              "      <td>Nay</td>\n",
              "      <td>Nay</td>\n",
              "      <td>Nay</td>\n",
              "      <td>Nay</td>\n",
              "      <td>Nay</td>\n",
              "      <td>Nay</td>\n",
              "      <td>Yea</td>\n",
              "      <td>Yea</td>\n",
              "      <td>Yea</td>\n",
              "      <td>Yea</td>\n",
              "      <td>Yea</td>\n",
              "      <td>Yea</td>\n",
              "      <td>Yea</td>\n",
              "      <td>Yea</td>\n",
              "      <td>Yea</td>\n",
              "      <td>Yea</td>\n",
              "      <td>Yea</td>\n",
              "      <td>Yea</td>\n",
              "      <td>Yea</td>\n",
              "      <td>Yea</td>\n",
              "      <td>Yea</td>\n",
              "      <td>Yea</td>\n",
              "      <td>Yea</td>\n",
              "      <td>Yea</td>\n",
              "      <td>Yea</td>\n",
              "      <td>Yea</td>\n",
              "      <td>Yea</td>\n",
              "      <td>Yea</td>\n",
              "      <td>Yea</td>\n",
              "      <td>Yea</td>\n",
              "      <td>Yea</td>\n",
              "      <td>Yea</td>\n",
              "      <td>Yea</td>\n",
              "      <td>...</td>\n",
              "      <td>Nay</td>\n",
              "      <td>Nay</td>\n",
              "      <td>Nay</td>\n",
              "      <td>Nay</td>\n",
              "      <td>Nay</td>\n",
              "      <td>Nay</td>\n",
              "      <td>Nay</td>\n",
              "      <td>Nay</td>\n",
              "      <td>Nay</td>\n",
              "      <td>Nay</td>\n",
              "      <td>Nay</td>\n",
              "      <td>Nay</td>\n",
              "      <td>Yea</td>\n",
              "      <td>Yea</td>\n",
              "      <td>Nay</td>\n",
              "      <td>Nay</td>\n",
              "      <td>Nay</td>\n",
              "      <td>Nay</td>\n",
              "      <td>Nay</td>\n",
              "      <td>Nay</td>\n",
              "      <td>Nay</td>\n",
              "      <td>Nay</td>\n",
              "      <td>Nay</td>\n",
              "      <td>Nay</td>\n",
              "      <td>Nay</td>\n",
              "      <td>Yea</td>\n",
              "      <td>Nay</td>\n",
              "      <td>Nay</td>\n",
              "      <td>Nay</td>\n",
              "      <td>Nay</td>\n",
              "      <td>Nay</td>\n",
              "      <td>Nay</td>\n",
              "      <td>Nay</td>\n",
              "      <td>Nay</td>\n",
              "      <td>Nay</td>\n",
              "      <td>Nay</td>\n",
              "      <td>Nay</td>\n",
              "      <td>Nay</td>\n",
              "      <td>Nay</td>\n",
              "      <td>Nay</td>\n",
              "    </tr>\n",
              "    <tr>\n",
              "      <th>Blumenthal (D-CT)</th>\n",
              "      <td>Nay</td>\n",
              "      <td>Nay</td>\n",
              "      <td>Yea</td>\n",
              "      <td>Nay</td>\n",
              "      <td>Yea</td>\n",
              "      <td>Yea</td>\n",
              "      <td>Yea</td>\n",
              "      <td>Yea</td>\n",
              "      <td>Yea</td>\n",
              "      <td>Yea</td>\n",
              "      <td>Yea</td>\n",
              "      <td>Yea</td>\n",
              "      <td>Yea</td>\n",
              "      <td>Yea</td>\n",
              "      <td>Nay</td>\n",
              "      <td>Yea</td>\n",
              "      <td>Nay</td>\n",
              "      <td>Nay</td>\n",
              "      <td>Yea</td>\n",
              "      <td>Nay</td>\n",
              "      <td>Yea</td>\n",
              "      <td>Yea</td>\n",
              "      <td>Nay</td>\n",
              "      <td>Nay</td>\n",
              "      <td>Nay</td>\n",
              "      <td>Yea</td>\n",
              "      <td>Yea</td>\n",
              "      <td>Nay</td>\n",
              "      <td>Nay</td>\n",
              "      <td>Yea</td>\n",
              "      <td>Nay</td>\n",
              "      <td>Nay</td>\n",
              "      <td>Nay</td>\n",
              "      <td>Nay</td>\n",
              "      <td>Yea</td>\n",
              "      <td>Nay</td>\n",
              "      <td>Nay</td>\n",
              "      <td>Nay</td>\n",
              "      <td>Nay</td>\n",
              "      <td>Nay</td>\n",
              "      <td>...</td>\n",
              "      <td>Yea</td>\n",
              "      <td>Yea</td>\n",
              "      <td>Yea</td>\n",
              "      <td>Yea</td>\n",
              "      <td>Yea</td>\n",
              "      <td>Yea</td>\n",
              "      <td>Yea</td>\n",
              "      <td>Yea</td>\n",
              "      <td>Yea</td>\n",
              "      <td>Yea</td>\n",
              "      <td>Yea</td>\n",
              "      <td>Yea</td>\n",
              "      <td>Yea</td>\n",
              "      <td>Yea</td>\n",
              "      <td>Yea</td>\n",
              "      <td>Yea</td>\n",
              "      <td>Yea</td>\n",
              "      <td>Yea</td>\n",
              "      <td>Yea</td>\n",
              "      <td>Yea</td>\n",
              "      <td>Yea</td>\n",
              "      <td>Yea</td>\n",
              "      <td>Yea</td>\n",
              "      <td>Yea</td>\n",
              "      <td>Nay</td>\n",
              "      <td>Yea</td>\n",
              "      <td>Yea</td>\n",
              "      <td>Yea</td>\n",
              "      <td>Yea</td>\n",
              "      <td>Yea</td>\n",
              "      <td>Yea</td>\n",
              "      <td>Yea</td>\n",
              "      <td>Yea</td>\n",
              "      <td>Yea</td>\n",
              "      <td>Yea</td>\n",
              "      <td>Yea</td>\n",
              "      <td>Yea</td>\n",
              "      <td>Yea</td>\n",
              "      <td>Yea</td>\n",
              "      <td>Yea</td>\n",
              "    </tr>\n",
              "    <tr>\n",
              "      <th>...</th>\n",
              "      <td>...</td>\n",
              "      <td>...</td>\n",
              "      <td>...</td>\n",
              "      <td>...</td>\n",
              "      <td>...</td>\n",
              "      <td>...</td>\n",
              "      <td>...</td>\n",
              "      <td>...</td>\n",
              "      <td>...</td>\n",
              "      <td>...</td>\n",
              "      <td>...</td>\n",
              "      <td>...</td>\n",
              "      <td>...</td>\n",
              "      <td>...</td>\n",
              "      <td>...</td>\n",
              "      <td>...</td>\n",
              "      <td>...</td>\n",
              "      <td>...</td>\n",
              "      <td>...</td>\n",
              "      <td>...</td>\n",
              "      <td>...</td>\n",
              "      <td>...</td>\n",
              "      <td>...</td>\n",
              "      <td>...</td>\n",
              "      <td>...</td>\n",
              "      <td>...</td>\n",
              "      <td>...</td>\n",
              "      <td>...</td>\n",
              "      <td>...</td>\n",
              "      <td>...</td>\n",
              "      <td>...</td>\n",
              "      <td>...</td>\n",
              "      <td>...</td>\n",
              "      <td>...</td>\n",
              "      <td>...</td>\n",
              "      <td>...</td>\n",
              "      <td>...</td>\n",
              "      <td>...</td>\n",
              "      <td>...</td>\n",
              "      <td>...</td>\n",
              "      <td>...</td>\n",
              "      <td>...</td>\n",
              "      <td>...</td>\n",
              "      <td>...</td>\n",
              "      <td>...</td>\n",
              "      <td>...</td>\n",
              "      <td>...</td>\n",
              "      <td>...</td>\n",
              "      <td>...</td>\n",
              "      <td>...</td>\n",
              "      <td>...</td>\n",
              "      <td>...</td>\n",
              "      <td>...</td>\n",
              "      <td>...</td>\n",
              "      <td>...</td>\n",
              "      <td>...</td>\n",
              "      <td>...</td>\n",
              "      <td>...</td>\n",
              "      <td>...</td>\n",
              "      <td>...</td>\n",
              "      <td>...</td>\n",
              "      <td>...</td>\n",
              "      <td>...</td>\n",
              "      <td>...</td>\n",
              "      <td>...</td>\n",
              "      <td>...</td>\n",
              "      <td>...</td>\n",
              "      <td>...</td>\n",
              "      <td>...</td>\n",
              "      <td>...</td>\n",
              "      <td>...</td>\n",
              "      <td>...</td>\n",
              "      <td>...</td>\n",
              "      <td>...</td>\n",
              "      <td>...</td>\n",
              "      <td>...</td>\n",
              "      <td>...</td>\n",
              "      <td>...</td>\n",
              "      <td>...</td>\n",
              "      <td>...</td>\n",
              "      <td>...</td>\n",
              "    </tr>\n",
              "    <tr>\n",
              "      <th>Wyden (D-OR)</th>\n",
              "      <td>Nay</td>\n",
              "      <td>Nay</td>\n",
              "      <td>Yea</td>\n",
              "      <td>Nay</td>\n",
              "      <td>Yea</td>\n",
              "      <td>Yea</td>\n",
              "      <td>Yea</td>\n",
              "      <td>Yea</td>\n",
              "      <td>Yea</td>\n",
              "      <td>Yea</td>\n",
              "      <td>Yea</td>\n",
              "      <td>Yea</td>\n",
              "      <td>Yea</td>\n",
              "      <td>Yea</td>\n",
              "      <td>Nay</td>\n",
              "      <td>Yea</td>\n",
              "      <td>Nay</td>\n",
              "      <td>Nay</td>\n",
              "      <td>Yea</td>\n",
              "      <td>Nay</td>\n",
              "      <td>Yea</td>\n",
              "      <td>Yea</td>\n",
              "      <td>Nay</td>\n",
              "      <td>Nay</td>\n",
              "      <td>Nay</td>\n",
              "      <td>Yea</td>\n",
              "      <td>Yea</td>\n",
              "      <td>Nay</td>\n",
              "      <td>Nay</td>\n",
              "      <td>Yea</td>\n",
              "      <td>Nay</td>\n",
              "      <td>Nay</td>\n",
              "      <td>Nay</td>\n",
              "      <td>Nay</td>\n",
              "      <td>Yea</td>\n",
              "      <td>Nay</td>\n",
              "      <td>Nay</td>\n",
              "      <td>Nay</td>\n",
              "      <td>Nay</td>\n",
              "      <td>Nay</td>\n",
              "      <td>...</td>\n",
              "      <td>Yea</td>\n",
              "      <td>Yea</td>\n",
              "      <td>Yea</td>\n",
              "      <td>Yea</td>\n",
              "      <td>Yea</td>\n",
              "      <td>Yea</td>\n",
              "      <td>Yea</td>\n",
              "      <td>Yea</td>\n",
              "      <td>Yea</td>\n",
              "      <td>Yea</td>\n",
              "      <td>Yea</td>\n",
              "      <td>Yea</td>\n",
              "      <td>Yea</td>\n",
              "      <td>Yea</td>\n",
              "      <td>Yea</td>\n",
              "      <td>Yea</td>\n",
              "      <td>Yea</td>\n",
              "      <td>Yea</td>\n",
              "      <td>Yea</td>\n",
              "      <td>Yea</td>\n",
              "      <td>Yea</td>\n",
              "      <td>Yea</td>\n",
              "      <td>Yea</td>\n",
              "      <td>Yea</td>\n",
              "      <td>Nay</td>\n",
              "      <td>Yea</td>\n",
              "      <td>Yea</td>\n",
              "      <td>Yea</td>\n",
              "      <td>Yea</td>\n",
              "      <td>Yea</td>\n",
              "      <td>Yea</td>\n",
              "      <td>Yea</td>\n",
              "      <td>Yea</td>\n",
              "      <td>Yea</td>\n",
              "      <td>Yea</td>\n",
              "      <td>Yea</td>\n",
              "      <td>Yea</td>\n",
              "      <td>Yea</td>\n",
              "      <td>Yea</td>\n",
              "      <td>Yea</td>\n",
              "    </tr>\n",
              "    <tr>\n",
              "      <th>Young (R-IN)</th>\n",
              "      <td>Nay</td>\n",
              "      <td>Nay</td>\n",
              "      <td>Yea</td>\n",
              "      <td>Nay</td>\n",
              "      <td>Yea</td>\n",
              "      <td>Yea</td>\n",
              "      <td>Yea</td>\n",
              "      <td>Nay</td>\n",
              "      <td>Yea</td>\n",
              "      <td>Nay</td>\n",
              "      <td>Yea</td>\n",
              "      <td>Nay</td>\n",
              "      <td>Nay</td>\n",
              "      <td>Yea</td>\n",
              "      <td>Yea</td>\n",
              "      <td>Yea</td>\n",
              "      <td>Yea</td>\n",
              "      <td>Yea</td>\n",
              "      <td>Yea</td>\n",
              "      <td>Yea</td>\n",
              "      <td>Yea</td>\n",
              "      <td>Yea</td>\n",
              "      <td>Yea</td>\n",
              "      <td>Yea</td>\n",
              "      <td>Yea</td>\n",
              "      <td>Yea</td>\n",
              "      <td>Yea</td>\n",
              "      <td>Yea</td>\n",
              "      <td>Yea</td>\n",
              "      <td>Yea</td>\n",
              "      <td>Nay</td>\n",
              "      <td>Yea</td>\n",
              "      <td>Yea</td>\n",
              "      <td>Yea</td>\n",
              "      <td>Yea</td>\n",
              "      <td>Yea</td>\n",
              "      <td>Yea</td>\n",
              "      <td>Yea</td>\n",
              "      <td>Nay</td>\n",
              "      <td>Yea</td>\n",
              "      <td>...</td>\n",
              "      <td>Yea</td>\n",
              "      <td>Nay</td>\n",
              "      <td>Yea</td>\n",
              "      <td>Nay</td>\n",
              "      <td>Yea</td>\n",
              "      <td>Nay</td>\n",
              "      <td>Yea</td>\n",
              "      <td>Yea</td>\n",
              "      <td>Nay</td>\n",
              "      <td>Nay</td>\n",
              "      <td>Nay</td>\n",
              "      <td>Yea</td>\n",
              "      <td>Yea</td>\n",
              "      <td>Yea</td>\n",
              "      <td>Yea</td>\n",
              "      <td>Yea</td>\n",
              "      <td>Not Voting</td>\n",
              "      <td>Nay</td>\n",
              "      <td>Nay</td>\n",
              "      <td>Nay</td>\n",
              "      <td>Nay</td>\n",
              "      <td>Nay</td>\n",
              "      <td>Nay</td>\n",
              "      <td>Nay</td>\n",
              "      <td>Nay</td>\n",
              "      <td>Yea</td>\n",
              "      <td>Nay</td>\n",
              "      <td>Yea</td>\n",
              "      <td>Not Voting</td>\n",
              "      <td>Not Voting</td>\n",
              "      <td>Not Voting</td>\n",
              "      <td>Not Voting</td>\n",
              "      <td>Nay</td>\n",
              "      <td>Nay</td>\n",
              "      <td>Nay</td>\n",
              "      <td>Nay</td>\n",
              "      <td>Yea</td>\n",
              "      <td>Yea</td>\n",
              "      <td>Yea</td>\n",
              "      <td>Yea</td>\n",
              "    </tr>\n",
              "    <tr>\n",
              "      <th>Ossoff (D-GA)</th>\n",
              "      <td>NaN</td>\n",
              "      <td>NaN</td>\n",
              "      <td>Yea</td>\n",
              "      <td>Yea</td>\n",
              "      <td>Yea</td>\n",
              "      <td>Yea</td>\n",
              "      <td>Yea</td>\n",
              "      <td>Yea</td>\n",
              "      <td>Yea</td>\n",
              "      <td>Yea</td>\n",
              "      <td>Yea</td>\n",
              "      <td>Yea</td>\n",
              "      <td>Yea</td>\n",
              "      <td>Yea</td>\n",
              "      <td>Nay</td>\n",
              "      <td>Yea</td>\n",
              "      <td>Nay</td>\n",
              "      <td>Nay</td>\n",
              "      <td>Yea</td>\n",
              "      <td>Nay</td>\n",
              "      <td>Yea</td>\n",
              "      <td>Yea</td>\n",
              "      <td>Nay</td>\n",
              "      <td>Nay</td>\n",
              "      <td>Nay</td>\n",
              "      <td>Yea</td>\n",
              "      <td>Yea</td>\n",
              "      <td>Nay</td>\n",
              "      <td>Nay</td>\n",
              "      <td>Yea</td>\n",
              "      <td>Nay</td>\n",
              "      <td>Nay</td>\n",
              "      <td>Nay</td>\n",
              "      <td>Nay</td>\n",
              "      <td>Yea</td>\n",
              "      <td>Nay</td>\n",
              "      <td>Nay</td>\n",
              "      <td>Nay</td>\n",
              "      <td>Nay</td>\n",
              "      <td>Nay</td>\n",
              "      <td>...</td>\n",
              "      <td>Yea</td>\n",
              "      <td>Yea</td>\n",
              "      <td>Yea</td>\n",
              "      <td>Yea</td>\n",
              "      <td>Yea</td>\n",
              "      <td>Yea</td>\n",
              "      <td>Yea</td>\n",
              "      <td>Yea</td>\n",
              "      <td>Yea</td>\n",
              "      <td>Yea</td>\n",
              "      <td>Yea</td>\n",
              "      <td>Yea</td>\n",
              "      <td>Yea</td>\n",
              "      <td>Yea</td>\n",
              "      <td>Yea</td>\n",
              "      <td>Yea</td>\n",
              "      <td>Yea</td>\n",
              "      <td>Yea</td>\n",
              "      <td>Yea</td>\n",
              "      <td>Yea</td>\n",
              "      <td>Yea</td>\n",
              "      <td>Yea</td>\n",
              "      <td>Yea</td>\n",
              "      <td>Yea</td>\n",
              "      <td>Nay</td>\n",
              "      <td>Yea</td>\n",
              "      <td>Yea</td>\n",
              "      <td>Yea</td>\n",
              "      <td>Yea</td>\n",
              "      <td>Yea</td>\n",
              "      <td>Yea</td>\n",
              "      <td>Yea</td>\n",
              "      <td>Yea</td>\n",
              "      <td>Yea</td>\n",
              "      <td>Yea</td>\n",
              "      <td>Yea</td>\n",
              "      <td>Yea</td>\n",
              "      <td>Yea</td>\n",
              "      <td>Yea</td>\n",
              "      <td>Yea</td>\n",
              "    </tr>\n",
              "    <tr>\n",
              "      <th>Padilla (D-CA)</th>\n",
              "      <td>NaN</td>\n",
              "      <td>NaN</td>\n",
              "      <td>Yea</td>\n",
              "      <td>Yea</td>\n",
              "      <td>Yea</td>\n",
              "      <td>Yea</td>\n",
              "      <td>Yea</td>\n",
              "      <td>Yea</td>\n",
              "      <td>Yea</td>\n",
              "      <td>Yea</td>\n",
              "      <td>Yea</td>\n",
              "      <td>Yea</td>\n",
              "      <td>Yea</td>\n",
              "      <td>Yea</td>\n",
              "      <td>Nay</td>\n",
              "      <td>Yea</td>\n",
              "      <td>Nay</td>\n",
              "      <td>Nay</td>\n",
              "      <td>Yea</td>\n",
              "      <td>Nay</td>\n",
              "      <td>Yea</td>\n",
              "      <td>Yea</td>\n",
              "      <td>Nay</td>\n",
              "      <td>Nay</td>\n",
              "      <td>Nay</td>\n",
              "      <td>Yea</td>\n",
              "      <td>Yea</td>\n",
              "      <td>Nay</td>\n",
              "      <td>Nay</td>\n",
              "      <td>Yea</td>\n",
              "      <td>Nay</td>\n",
              "      <td>Nay</td>\n",
              "      <td>Nay</td>\n",
              "      <td>Nay</td>\n",
              "      <td>Yea</td>\n",
              "      <td>Nay</td>\n",
              "      <td>Nay</td>\n",
              "      <td>Nay</td>\n",
              "      <td>Nay</td>\n",
              "      <td>Nay</td>\n",
              "      <td>...</td>\n",
              "      <td>Yea</td>\n",
              "      <td>Yea</td>\n",
              "      <td>Yea</td>\n",
              "      <td>Yea</td>\n",
              "      <td>Yea</td>\n",
              "      <td>Yea</td>\n",
              "      <td>Yea</td>\n",
              "      <td>Yea</td>\n",
              "      <td>Yea</td>\n",
              "      <td>Yea</td>\n",
              "      <td>Yea</td>\n",
              "      <td>Yea</td>\n",
              "      <td>Yea</td>\n",
              "      <td>Yea</td>\n",
              "      <td>Yea</td>\n",
              "      <td>Yea</td>\n",
              "      <td>Yea</td>\n",
              "      <td>Yea</td>\n",
              "      <td>Yea</td>\n",
              "      <td>Yea</td>\n",
              "      <td>Yea</td>\n",
              "      <td>Yea</td>\n",
              "      <td>Yea</td>\n",
              "      <td>Yea</td>\n",
              "      <td>Nay</td>\n",
              "      <td>Yea</td>\n",
              "      <td>Yea</td>\n",
              "      <td>Yea</td>\n",
              "      <td>Yea</td>\n",
              "      <td>Yea</td>\n",
              "      <td>Yea</td>\n",
              "      <td>Yea</td>\n",
              "      <td>Yea</td>\n",
              "      <td>Yea</td>\n",
              "      <td>Yea</td>\n",
              "      <td>Yea</td>\n",
              "      <td>Yea</td>\n",
              "      <td>Yea</td>\n",
              "      <td>Yea</td>\n",
              "      <td>Yea</td>\n",
              "    </tr>\n",
              "    <tr>\n",
              "      <th>Warnock (D-GA)</th>\n",
              "      <td>NaN</td>\n",
              "      <td>NaN</td>\n",
              "      <td>Yea</td>\n",
              "      <td>Yea</td>\n",
              "      <td>Yea</td>\n",
              "      <td>Yea</td>\n",
              "      <td>Yea</td>\n",
              "      <td>Yea</td>\n",
              "      <td>Yea</td>\n",
              "      <td>Yea</td>\n",
              "      <td>Yea</td>\n",
              "      <td>Yea</td>\n",
              "      <td>Yea</td>\n",
              "      <td>Yea</td>\n",
              "      <td>Nay</td>\n",
              "      <td>Yea</td>\n",
              "      <td>Nay</td>\n",
              "      <td>Nay</td>\n",
              "      <td>Yea</td>\n",
              "      <td>Nay</td>\n",
              "      <td>Yea</td>\n",
              "      <td>Yea</td>\n",
              "      <td>Nay</td>\n",
              "      <td>Nay</td>\n",
              "      <td>Nay</td>\n",
              "      <td>Yea</td>\n",
              "      <td>Yea</td>\n",
              "      <td>Nay</td>\n",
              "      <td>Nay</td>\n",
              "      <td>Yea</td>\n",
              "      <td>Nay</td>\n",
              "      <td>Nay</td>\n",
              "      <td>Nay</td>\n",
              "      <td>Nay</td>\n",
              "      <td>Yea</td>\n",
              "      <td>Nay</td>\n",
              "      <td>Nay</td>\n",
              "      <td>Nay</td>\n",
              "      <td>Nay</td>\n",
              "      <td>Nay</td>\n",
              "      <td>...</td>\n",
              "      <td>Yea</td>\n",
              "      <td>Yea</td>\n",
              "      <td>Yea</td>\n",
              "      <td>Yea</td>\n",
              "      <td>Yea</td>\n",
              "      <td>Yea</td>\n",
              "      <td>Yea</td>\n",
              "      <td>Yea</td>\n",
              "      <td>Yea</td>\n",
              "      <td>Yea</td>\n",
              "      <td>Yea</td>\n",
              "      <td>Yea</td>\n",
              "      <td>Yea</td>\n",
              "      <td>Yea</td>\n",
              "      <td>Yea</td>\n",
              "      <td>Yea</td>\n",
              "      <td>Yea</td>\n",
              "      <td>Yea</td>\n",
              "      <td>Yea</td>\n",
              "      <td>Yea</td>\n",
              "      <td>Yea</td>\n",
              "      <td>Yea</td>\n",
              "      <td>Yea</td>\n",
              "      <td>Yea</td>\n",
              "      <td>Nay</td>\n",
              "      <td>Yea</td>\n",
              "      <td>Yea</td>\n",
              "      <td>Yea</td>\n",
              "      <td>Yea</td>\n",
              "      <td>Yea</td>\n",
              "      <td>Yea</td>\n",
              "      <td>Yea</td>\n",
              "      <td>Yea</td>\n",
              "      <td>Yea</td>\n",
              "      <td>Yea</td>\n",
              "      <td>Yea</td>\n",
              "      <td>Yea</td>\n",
              "      <td>Yea</td>\n",
              "      <td>Yea</td>\n",
              "      <td>Yea</td>\n",
              "    </tr>\n",
              "  </tbody>\n",
              "</table>\n",
              "<p>102 rows × 265 columns</p>\n",
              "</div>"
            ],
            "text/plain": [
              "                   1    2    3    4    5    6    ...  260  261  262  263  264  265\n",
              "Baldwin (D-WI)     Nay  Nay  Yea  Nay  Yea  Yea  ...  Yea  Yea  Yea  Yea  Yea  Yea\n",
              "Barrasso (R-WY)    Nay  Nay  Yea  Nay  Yea  Nay  ...  Nay  Nay  Nay  Yea  Nay  Yea\n",
              "Bennet (D-CO)      Nay  Nay  Yea  Yea  Yea  Yea  ...  Yea  Yea  Yea  Yea  Yea  Yea\n",
              "Blackburn (R-TN)   Nay  Nay  Nay  Nay  Yea  Nay  ...  Nay  Nay  Nay  Nay  Nay  Nay\n",
              "Blumenthal (D-CT)  Nay  Nay  Yea  Nay  Yea  Yea  ...  Yea  Yea  Yea  Yea  Yea  Yea\n",
              "...                ...  ...  ...  ...  ...  ...  ...  ...  ...  ...  ...  ...  ...\n",
              "Wyden (D-OR)       Nay  Nay  Yea  Nay  Yea  Yea  ...  Yea  Yea  Yea  Yea  Yea  Yea\n",
              "Young (R-IN)       Nay  Nay  Yea  Nay  Yea  Yea  ...  Nay  Nay  Yea  Yea  Yea  Yea\n",
              "Ossoff (D-GA)      NaN  NaN  Yea  Yea  Yea  Yea  ...  Yea  Yea  Yea  Yea  Yea  Yea\n",
              "Padilla (D-CA)     NaN  NaN  Yea  Yea  Yea  Yea  ...  Yea  Yea  Yea  Yea  Yea  Yea\n",
              "Warnock (D-GA)     NaN  NaN  Yea  Yea  Yea  Yea  ...  Yea  Yea  Yea  Yea  Yea  Yea\n",
              "\n",
              "[102 rows x 265 columns]"
            ]
          },
          "metadata": {
            "tags": []
          },
          "execution_count": 149
        }
      ]
    },
    {
      "cell_type": "markdown",
      "metadata": {
        "id": "9JsGwB046viV"
      },
      "source": [
        "\n",
        "\n",
        "---\n",
        "\n",
        "\n",
        "## **2. Data Cleansing**"
      ]
    },
    {
      "cell_type": "markdown",
      "metadata": {
        "id": "I46-ncBR498Y"
      },
      "source": [
        "### **2.1 Removing bad data and ex-senators**"
      ]
    },
    {
      "cell_type": "code",
      "metadata": {
        "id": "B-6sDgIY7cnm",
        "colab": {
          "base_uri": "https://localhost:8080/"
        },
        "outputId": "40dd2cab-3adc-40e3-8ded-099670bb065c"
      },
      "source": [
        "voting.shape"
      ],
      "execution_count": null,
      "outputs": [
        {
          "output_type": "execute_result",
          "data": {
            "text/plain": [
              "(102, 265)"
            ]
          },
          "metadata": {
            "tags": []
          },
          "execution_count": 150
        }
      ]
    },
    {
      "cell_type": "markdown",
      "metadata": {
        "id": "bf74ekwa8owZ"
      },
      "source": [
        "There should only be 100 senators, so something is off.  The number of votes is correct."
      ]
    },
    {
      "cell_type": "markdown",
      "metadata": {
        "id": "31KNYUXS_sZa"
      },
      "source": [
        "Three records with bad data at the end, revolving around 'Guilty', 'Not Guilty' and 'Present.  These will be removed. Also, some research indicated two senate seats changed hands.  Kamala Harris's seat was replaced with Alex Padilla, while Kelly Loeffler was replaced with Raphael Warnock.  The number of senators should be 102.  Since both of these replacements happened in January, I will removed Kamala Harris and Kelly Leoffler as they had too few votes for analysis."
      ]
    },
    {
      "cell_type": "code",
      "metadata": {
        "colab": {
          "base_uri": "https://localhost:8080/"
        },
        "id": "NorQS-XNTEBR",
        "outputId": "bfd92fd2-23ff-46e0-9f69-6f1c60a74c37"
      },
      "source": [
        "list(voting.index)"
      ],
      "execution_count": null,
      "outputs": [
        {
          "output_type": "execute_result",
          "data": {
            "text/plain": [
              "['Baldwin (D-WI)',\n",
              " 'Barrasso (R-WY)',\n",
              " 'Bennet (D-CO)',\n",
              " 'Blackburn (R-TN)',\n",
              " 'Blumenthal (D-CT)',\n",
              " 'Blunt (R-MO)',\n",
              " 'Booker (D-NJ)',\n",
              " 'Boozman (R-AR)',\n",
              " 'Braun (R-IN)',\n",
              " 'Brown (D-OH)',\n",
              " 'Burr (R-NC)',\n",
              " 'Cantwell (D-WA)',\n",
              " 'Capito (R-WV)',\n",
              " 'Cardin (D-MD)',\n",
              " 'Carper (D-DE)',\n",
              " 'Casey (D-PA)',\n",
              " 'Cassidy (R-LA)',\n",
              " 'Collins (R-ME)',\n",
              " 'Coons (D-DE)',\n",
              " 'Cornyn (R-TX)',\n",
              " 'Cortez Masto (D-NV)',\n",
              " 'Cotton (R-AR)',\n",
              " 'Cramer (R-ND)',\n",
              " 'Crapo (R-ID)',\n",
              " 'Cruz (R-TX)',\n",
              " 'Daines (R-MT)',\n",
              " 'Duckworth (D-IL)',\n",
              " 'Durbin (D-IL)',\n",
              " 'Ernst (R-IA)',\n",
              " 'Feinstein (D-CA)',\n",
              " 'Fischer (R-NE)',\n",
              " 'Gillibrand (D-NY)',\n",
              " 'Graham (R-SC)',\n",
              " 'Grassley (R-IA)',\n",
              " 'Hagerty (R-TN)',\n",
              " 'Harris (D-CA)',\n",
              " 'Hassan (D-NH)',\n",
              " 'Hawley (R-MO)',\n",
              " 'Heinrich (D-NM)',\n",
              " 'Hickenlooper (D-CO)',\n",
              " 'Hirono (D-HI)',\n",
              " 'Hoeven (R-ND)',\n",
              " 'Hyde-Smith (R-MS)',\n",
              " 'Inhofe (R-OK)',\n",
              " 'Johnson (R-WI)',\n",
              " 'Kaine (D-VA)',\n",
              " 'Kelly (D-AZ)',\n",
              " 'Kennedy (R-LA)',\n",
              " 'King (I-ME)',\n",
              " 'Klobuchar (D-MN)',\n",
              " 'Lankford (R-OK)',\n",
              " 'Leahy (D-VT)',\n",
              " 'Lee (R-UT)',\n",
              " 'Loeffler (R-GA)',\n",
              " 'Lujan (D-NM)',\n",
              " 'Lummis (R-WY)',\n",
              " 'Manchin (D-WV)',\n",
              " 'Markey (D-MA)',\n",
              " 'Marshall (R-KS)',\n",
              " 'McConnell (R-KY)',\n",
              " 'Menendez (D-NJ)',\n",
              " 'Merkley (D-OR)',\n",
              " 'Moran (R-KS)',\n",
              " 'Murkowski (R-AK)',\n",
              " 'Murphy (D-CT)',\n",
              " 'Murray (D-WA)',\n",
              " 'Paul (R-KY)',\n",
              " 'Peters (D-MI)',\n",
              " 'Portman (R-OH)',\n",
              " 'Reed (D-RI)',\n",
              " 'Risch (R-ID)',\n",
              " 'Romney (R-UT)',\n",
              " 'Rosen (D-NV)',\n",
              " 'Rounds (R-SD)',\n",
              " 'Rubio (R-FL)',\n",
              " 'Sanders (I-VT)',\n",
              " 'Sasse (R-NE)',\n",
              " 'Schatz (D-HI)',\n",
              " 'Schumer (D-NY)',\n",
              " 'Scott (R-FL)',\n",
              " 'Scott (R-SC)',\n",
              " 'Shaheen (D-NH)',\n",
              " 'Shelby (R-AL)',\n",
              " 'Sinema (D-AZ)',\n",
              " 'Smith (D-MN)',\n",
              " 'Stabenow (D-MI)',\n",
              " 'Sullivan (R-AK)',\n",
              " 'Tester (D-MT)',\n",
              " 'Thune (R-SD)',\n",
              " 'Tillis (R-NC)',\n",
              " 'Toomey (R-PA)',\n",
              " 'Tuberville (R-AL)',\n",
              " 'Van Hollen (D-MD)',\n",
              " 'Warner (D-VA)',\n",
              " 'Warren (D-MA)',\n",
              " 'Whitehouse (D-RI)',\n",
              " 'Wicker (R-MS)',\n",
              " 'Wyden (D-OR)',\n",
              " 'Young (R-IN)',\n",
              " 'Ossoff (D-GA)',\n",
              " 'Padilla (D-CA)',\n",
              " 'Warnock (D-GA)']"
            ]
          },
          "metadata": {
            "tags": []
          },
          "execution_count": 152
        }
      ]
    },
    {
      "cell_type": "code",
      "metadata": {
        "id": "RizxB1gUTAbN"
      },
      "source": [
        "dropped_senators = ['Harris (D-CA)', 'Loeffler (R-GA)']\n",
        "voting.drop(dropped_senators, inplace=True, axis=0)"
      ],
      "execution_count": null,
      "outputs": []
    },
    {
      "cell_type": "code",
      "metadata": {
        "colab": {
          "base_uri": "https://localhost:8080/"
        },
        "id": "RKckrOQLTnsw",
        "outputId": "c2929370-35c5-4055-f992-2572f2f8c6e2"
      },
      "source": [
        "voting.shape"
      ],
      "execution_count": null,
      "outputs": [
        {
          "output_type": "execute_result",
          "data": {
            "text/plain": [
              "(100, 265)"
            ]
          },
          "metadata": {
            "tags": []
          },
          "execution_count": 154
        }
      ]
    },
    {
      "cell_type": "code",
      "metadata": {
        "id": "avAVrmEF8xJl",
        "colab": {
          "base_uri": "https://localhost:8080/",
          "height": 419
        },
        "outputId": "0e9b0b6c-c508-4967-a23c-49e4995da25f"
      },
      "source": [
        "voting.describe().T"
      ],
      "execution_count": null,
      "outputs": [
        {
          "output_type": "execute_result",
          "data": {
            "text/html": [
              "<div>\n",
              "<style scoped>\n",
              "    .dataframe tbody tr th:only-of-type {\n",
              "        vertical-align: middle;\n",
              "    }\n",
              "\n",
              "    .dataframe tbody tr th {\n",
              "        vertical-align: top;\n",
              "    }\n",
              "\n",
              "    .dataframe thead th {\n",
              "        text-align: right;\n",
              "    }\n",
              "</style>\n",
              "<table border=\"1\" class=\"dataframe\">\n",
              "  <thead>\n",
              "    <tr style=\"text-align: right;\">\n",
              "      <th></th>\n",
              "      <th>count</th>\n",
              "      <th>unique</th>\n",
              "      <th>top</th>\n",
              "      <th>freq</th>\n",
              "    </tr>\n",
              "  </thead>\n",
              "  <tbody>\n",
              "    <tr>\n",
              "      <th>1</th>\n",
              "      <td>97</td>\n",
              "      <td>2</td>\n",
              "      <td>Nay</td>\n",
              "      <td>91</td>\n",
              "    </tr>\n",
              "    <tr>\n",
              "      <th>2</th>\n",
              "      <td>97</td>\n",
              "      <td>2</td>\n",
              "      <td>Nay</td>\n",
              "      <td>90</td>\n",
              "    </tr>\n",
              "    <tr>\n",
              "      <th>3</th>\n",
              "      <td>100</td>\n",
              "      <td>3</td>\n",
              "      <td>Yea</td>\n",
              "      <td>84</td>\n",
              "    </tr>\n",
              "    <tr>\n",
              "      <th>4</th>\n",
              "      <td>100</td>\n",
              "      <td>3</td>\n",
              "      <td>Yea</td>\n",
              "      <td>69</td>\n",
              "    </tr>\n",
              "    <tr>\n",
              "      <th>5</th>\n",
              "      <td>100</td>\n",
              "      <td>3</td>\n",
              "      <td>Yea</td>\n",
              "      <td>93</td>\n",
              "    </tr>\n",
              "    <tr>\n",
              "      <th>...</th>\n",
              "      <td>...</td>\n",
              "      <td>...</td>\n",
              "      <td>...</td>\n",
              "      <td>...</td>\n",
              "    </tr>\n",
              "    <tr>\n",
              "      <th>261</th>\n",
              "      <td>100</td>\n",
              "      <td>3</td>\n",
              "      <td>Yea</td>\n",
              "      <td>53</td>\n",
              "    </tr>\n",
              "    <tr>\n",
              "      <th>262</th>\n",
              "      <td>100</td>\n",
              "      <td>3</td>\n",
              "      <td>Yea</td>\n",
              "      <td>72</td>\n",
              "    </tr>\n",
              "    <tr>\n",
              "      <th>263</th>\n",
              "      <td>100</td>\n",
              "      <td>3</td>\n",
              "      <td>Yea</td>\n",
              "      <td>90</td>\n",
              "    </tr>\n",
              "    <tr>\n",
              "      <th>264</th>\n",
              "      <td>100</td>\n",
              "      <td>3</td>\n",
              "      <td>Yea</td>\n",
              "      <td>72</td>\n",
              "    </tr>\n",
              "    <tr>\n",
              "      <th>265</th>\n",
              "      <td>100</td>\n",
              "      <td>3</td>\n",
              "      <td>Yea</td>\n",
              "      <td>91</td>\n",
              "    </tr>\n",
              "  </tbody>\n",
              "</table>\n",
              "<p>265 rows × 4 columns</p>\n",
              "</div>"
            ],
            "text/plain": [
              "    count unique  top freq\n",
              "1      97      2  Nay   91\n",
              "2      97      2  Nay   90\n",
              "3     100      3  Yea   84\n",
              "4     100      3  Yea   69\n",
              "5     100      3  Yea   93\n",
              "..    ...    ...  ...  ...\n",
              "261   100      3  Yea   53\n",
              "262   100      3  Yea   72\n",
              "263   100      3  Yea   90\n",
              "264   100      3  Yea   72\n",
              "265   100      3  Yea   91\n",
              "\n",
              "[265 rows x 4 columns]"
            ]
          },
          "metadata": {
            "tags": []
          },
          "execution_count": 156
        }
      ]
    },
    {
      "cell_type": "markdown",
      "metadata": {
        "id": "NFa_C8P-CUoA"
      },
      "source": [
        "The unique column is most interesting.  There are five responses possible:  *Yea*, *Nay*, *Not Voting*, *Guilty* and *Not Guilty*.  The missing values represent senators missing a vote.  PCA can not have missing values, so I will replace those with zeros.\n",
        "\n",
        "Also, the first two votes have counts of 97, not 100.  This is is due to two senators being replaced. "
      ]
    },
    {
      "cell_type": "markdown",
      "metadata": {
        "id": "_oj4aHtH5HCP"
      },
      "source": [
        "### **2.2 Dealing with Missing Values**"
      ]
    },
    {
      "cell_type": "code",
      "metadata": {
        "id": "Il58hcnlGR5T",
        "colab": {
          "base_uri": "https://localhost:8080/"
        },
        "outputId": "04b13fe6-f37b-4725-81e7-f20b787aed39"
      },
      "source": [
        "voting.isna().sum()"
      ],
      "execution_count": null,
      "outputs": [
        {
          "output_type": "execute_result",
          "data": {
            "text/plain": [
              "1      3\n",
              "2      3\n",
              "3      0\n",
              "4      0\n",
              "5      0\n",
              "      ..\n",
              "261    0\n",
              "262    0\n",
              "263    0\n",
              "264    0\n",
              "265    0\n",
              "Length: 265, dtype: int64"
            ]
          },
          "metadata": {
            "tags": []
          },
          "execution_count": 158
        }
      ]
    },
    {
      "cell_type": "code",
      "metadata": {
        "id": "OPkJXYR_7jwq"
      },
      "source": [
        "voting = voting.fillna(0)"
      ],
      "execution_count": null,
      "outputs": []
    },
    {
      "cell_type": "code",
      "metadata": {
        "id": "r7opdw2aPY82",
        "colab": {
          "base_uri": "https://localhost:8080/"
        },
        "outputId": "525f8f96-fd10-44e5-816b-872228e404d0"
      },
      "source": [
        "voting.isna().sum()"
      ],
      "execution_count": null,
      "outputs": [
        {
          "output_type": "execute_result",
          "data": {
            "text/plain": [
              "1      0\n",
              "2      0\n",
              "3      0\n",
              "4      0\n",
              "5      0\n",
              "      ..\n",
              "261    0\n",
              "262    0\n",
              "263    0\n",
              "264    0\n",
              "265    0\n",
              "Length: 265, dtype: int64"
            ]
          },
          "metadata": {
            "tags": []
          },
          "execution_count": 160
        }
      ]
    },
    {
      "cell_type": "markdown",
      "metadata": {
        "id": "h_wZ_CxY5Ofo"
      },
      "source": [
        "### **2.3  Transforming each vote to a binary value**\n",
        "For ease of modeling, 'Yea' and 'Guilty' will be changed to a 1, while all other values will be changed to 0"
      ]
    },
    {
      "cell_type": "code",
      "metadata": {
        "id": "cAQb_8ddJ20K",
        "colab": {
          "base_uri": "https://localhost:8080/",
          "height": 338
        },
        "outputId": "a7dcde01-86bf-4545-d2ad-efdb1a092b09"
      },
      "source": [
        "yes = ['Yea', 'Guilty']\n",
        "no = ['Nay', 'Not Guilty', 'Not Voting', 'Present']\n",
        "voting.replace(yes, 1, inplace=True)\n",
        "voting.replace(no, 0, inplace=True)\n",
        "voting.head()"
      ],
      "execution_count": null,
      "outputs": [
        {
          "output_type": "execute_result",
          "data": {
            "text/html": [
              "<div>\n",
              "<style scoped>\n",
              "    .dataframe tbody tr th:only-of-type {\n",
              "        vertical-align: middle;\n",
              "    }\n",
              "\n",
              "    .dataframe tbody tr th {\n",
              "        vertical-align: top;\n",
              "    }\n",
              "\n",
              "    .dataframe thead th {\n",
              "        text-align: right;\n",
              "    }\n",
              "</style>\n",
              "<table border=\"1\" class=\"dataframe\">\n",
              "  <thead>\n",
              "    <tr style=\"text-align: right;\">\n",
              "      <th></th>\n",
              "      <th>1</th>\n",
              "      <th>2</th>\n",
              "      <th>3</th>\n",
              "      <th>4</th>\n",
              "      <th>5</th>\n",
              "      <th>6</th>\n",
              "      <th>7</th>\n",
              "      <th>8</th>\n",
              "      <th>9</th>\n",
              "      <th>10</th>\n",
              "      <th>11</th>\n",
              "      <th>12</th>\n",
              "      <th>13</th>\n",
              "      <th>14</th>\n",
              "      <th>15</th>\n",
              "      <th>16</th>\n",
              "      <th>17</th>\n",
              "      <th>18</th>\n",
              "      <th>19</th>\n",
              "      <th>20</th>\n",
              "      <th>21</th>\n",
              "      <th>22</th>\n",
              "      <th>23</th>\n",
              "      <th>24</th>\n",
              "      <th>25</th>\n",
              "      <th>26</th>\n",
              "      <th>27</th>\n",
              "      <th>28</th>\n",
              "      <th>29</th>\n",
              "      <th>30</th>\n",
              "      <th>31</th>\n",
              "      <th>32</th>\n",
              "      <th>33</th>\n",
              "      <th>34</th>\n",
              "      <th>35</th>\n",
              "      <th>36</th>\n",
              "      <th>37</th>\n",
              "      <th>38</th>\n",
              "      <th>39</th>\n",
              "      <th>40</th>\n",
              "      <th>...</th>\n",
              "      <th>226</th>\n",
              "      <th>227</th>\n",
              "      <th>228</th>\n",
              "      <th>229</th>\n",
              "      <th>230</th>\n",
              "      <th>231</th>\n",
              "      <th>232</th>\n",
              "      <th>233</th>\n",
              "      <th>234</th>\n",
              "      <th>235</th>\n",
              "      <th>236</th>\n",
              "      <th>237</th>\n",
              "      <th>238</th>\n",
              "      <th>239</th>\n",
              "      <th>240</th>\n",
              "      <th>241</th>\n",
              "      <th>242</th>\n",
              "      <th>243</th>\n",
              "      <th>244</th>\n",
              "      <th>245</th>\n",
              "      <th>246</th>\n",
              "      <th>247</th>\n",
              "      <th>248</th>\n",
              "      <th>249</th>\n",
              "      <th>250</th>\n",
              "      <th>251</th>\n",
              "      <th>252</th>\n",
              "      <th>253</th>\n",
              "      <th>254</th>\n",
              "      <th>255</th>\n",
              "      <th>256</th>\n",
              "      <th>257</th>\n",
              "      <th>258</th>\n",
              "      <th>259</th>\n",
              "      <th>260</th>\n",
              "      <th>261</th>\n",
              "      <th>262</th>\n",
              "      <th>263</th>\n",
              "      <th>264</th>\n",
              "      <th>265</th>\n",
              "    </tr>\n",
              "  </thead>\n",
              "  <tbody>\n",
              "    <tr>\n",
              "      <th>Baldwin (D-WI)</th>\n",
              "      <td>0</td>\n",
              "      <td>0</td>\n",
              "      <td>1</td>\n",
              "      <td>0</td>\n",
              "      <td>1</td>\n",
              "      <td>1</td>\n",
              "      <td>1</td>\n",
              "      <td>1</td>\n",
              "      <td>1</td>\n",
              "      <td>1</td>\n",
              "      <td>1</td>\n",
              "      <td>1</td>\n",
              "      <td>1</td>\n",
              "      <td>1</td>\n",
              "      <td>0</td>\n",
              "      <td>1</td>\n",
              "      <td>0</td>\n",
              "      <td>0</td>\n",
              "      <td>1</td>\n",
              "      <td>0</td>\n",
              "      <td>1</td>\n",
              "      <td>1</td>\n",
              "      <td>0</td>\n",
              "      <td>0</td>\n",
              "      <td>0</td>\n",
              "      <td>1</td>\n",
              "      <td>1</td>\n",
              "      <td>0</td>\n",
              "      <td>0</td>\n",
              "      <td>1</td>\n",
              "      <td>0</td>\n",
              "      <td>0</td>\n",
              "      <td>0</td>\n",
              "      <td>0</td>\n",
              "      <td>1</td>\n",
              "      <td>0</td>\n",
              "      <td>0</td>\n",
              "      <td>0</td>\n",
              "      <td>0</td>\n",
              "      <td>0</td>\n",
              "      <td>...</td>\n",
              "      <td>1</td>\n",
              "      <td>1</td>\n",
              "      <td>1</td>\n",
              "      <td>1</td>\n",
              "      <td>1</td>\n",
              "      <td>1</td>\n",
              "      <td>1</td>\n",
              "      <td>1</td>\n",
              "      <td>1</td>\n",
              "      <td>1</td>\n",
              "      <td>1</td>\n",
              "      <td>1</td>\n",
              "      <td>1</td>\n",
              "      <td>1</td>\n",
              "      <td>1</td>\n",
              "      <td>1</td>\n",
              "      <td>1</td>\n",
              "      <td>1</td>\n",
              "      <td>1</td>\n",
              "      <td>1</td>\n",
              "      <td>1</td>\n",
              "      <td>1</td>\n",
              "      <td>1</td>\n",
              "      <td>1</td>\n",
              "      <td>0</td>\n",
              "      <td>1</td>\n",
              "      <td>1</td>\n",
              "      <td>1</td>\n",
              "      <td>1</td>\n",
              "      <td>1</td>\n",
              "      <td>1</td>\n",
              "      <td>1</td>\n",
              "      <td>1</td>\n",
              "      <td>1</td>\n",
              "      <td>1</td>\n",
              "      <td>1</td>\n",
              "      <td>1</td>\n",
              "      <td>1</td>\n",
              "      <td>1</td>\n",
              "      <td>1</td>\n",
              "    </tr>\n",
              "    <tr>\n",
              "      <th>Barrasso (R-WY)</th>\n",
              "      <td>0</td>\n",
              "      <td>0</td>\n",
              "      <td>1</td>\n",
              "      <td>0</td>\n",
              "      <td>1</td>\n",
              "      <td>0</td>\n",
              "      <td>0</td>\n",
              "      <td>0</td>\n",
              "      <td>1</td>\n",
              "      <td>0</td>\n",
              "      <td>1</td>\n",
              "      <td>0</td>\n",
              "      <td>0</td>\n",
              "      <td>1</td>\n",
              "      <td>1</td>\n",
              "      <td>1</td>\n",
              "      <td>1</td>\n",
              "      <td>1</td>\n",
              "      <td>1</td>\n",
              "      <td>1</td>\n",
              "      <td>1</td>\n",
              "      <td>1</td>\n",
              "      <td>1</td>\n",
              "      <td>1</td>\n",
              "      <td>1</td>\n",
              "      <td>1</td>\n",
              "      <td>1</td>\n",
              "      <td>1</td>\n",
              "      <td>1</td>\n",
              "      <td>1</td>\n",
              "      <td>1</td>\n",
              "      <td>1</td>\n",
              "      <td>1</td>\n",
              "      <td>1</td>\n",
              "      <td>1</td>\n",
              "      <td>1</td>\n",
              "      <td>1</td>\n",
              "      <td>1</td>\n",
              "      <td>0</td>\n",
              "      <td>1</td>\n",
              "      <td>...</td>\n",
              "      <td>0</td>\n",
              "      <td>0</td>\n",
              "      <td>1</td>\n",
              "      <td>0</td>\n",
              "      <td>1</td>\n",
              "      <td>0</td>\n",
              "      <td>0</td>\n",
              "      <td>0</td>\n",
              "      <td>0</td>\n",
              "      <td>0</td>\n",
              "      <td>0</td>\n",
              "      <td>0</td>\n",
              "      <td>1</td>\n",
              "      <td>1</td>\n",
              "      <td>0</td>\n",
              "      <td>0</td>\n",
              "      <td>0</td>\n",
              "      <td>0</td>\n",
              "      <td>0</td>\n",
              "      <td>0</td>\n",
              "      <td>0</td>\n",
              "      <td>0</td>\n",
              "      <td>0</td>\n",
              "      <td>0</td>\n",
              "      <td>0</td>\n",
              "      <td>1</td>\n",
              "      <td>0</td>\n",
              "      <td>0</td>\n",
              "      <td>0</td>\n",
              "      <td>0</td>\n",
              "      <td>0</td>\n",
              "      <td>0</td>\n",
              "      <td>0</td>\n",
              "      <td>0</td>\n",
              "      <td>0</td>\n",
              "      <td>0</td>\n",
              "      <td>0</td>\n",
              "      <td>1</td>\n",
              "      <td>0</td>\n",
              "      <td>1</td>\n",
              "    </tr>\n",
              "    <tr>\n",
              "      <th>Bennet (D-CO)</th>\n",
              "      <td>0</td>\n",
              "      <td>0</td>\n",
              "      <td>1</td>\n",
              "      <td>1</td>\n",
              "      <td>1</td>\n",
              "      <td>1</td>\n",
              "      <td>1</td>\n",
              "      <td>1</td>\n",
              "      <td>1</td>\n",
              "      <td>1</td>\n",
              "      <td>1</td>\n",
              "      <td>1</td>\n",
              "      <td>1</td>\n",
              "      <td>1</td>\n",
              "      <td>0</td>\n",
              "      <td>1</td>\n",
              "      <td>0</td>\n",
              "      <td>0</td>\n",
              "      <td>1</td>\n",
              "      <td>0</td>\n",
              "      <td>1</td>\n",
              "      <td>1</td>\n",
              "      <td>0</td>\n",
              "      <td>0</td>\n",
              "      <td>0</td>\n",
              "      <td>1</td>\n",
              "      <td>1</td>\n",
              "      <td>1</td>\n",
              "      <td>0</td>\n",
              "      <td>1</td>\n",
              "      <td>0</td>\n",
              "      <td>0</td>\n",
              "      <td>0</td>\n",
              "      <td>0</td>\n",
              "      <td>1</td>\n",
              "      <td>0</td>\n",
              "      <td>0</td>\n",
              "      <td>0</td>\n",
              "      <td>0</td>\n",
              "      <td>0</td>\n",
              "      <td>...</td>\n",
              "      <td>1</td>\n",
              "      <td>1</td>\n",
              "      <td>1</td>\n",
              "      <td>1</td>\n",
              "      <td>1</td>\n",
              "      <td>1</td>\n",
              "      <td>1</td>\n",
              "      <td>1</td>\n",
              "      <td>1</td>\n",
              "      <td>1</td>\n",
              "      <td>1</td>\n",
              "      <td>1</td>\n",
              "      <td>1</td>\n",
              "      <td>1</td>\n",
              "      <td>1</td>\n",
              "      <td>1</td>\n",
              "      <td>1</td>\n",
              "      <td>1</td>\n",
              "      <td>1</td>\n",
              "      <td>1</td>\n",
              "      <td>1</td>\n",
              "      <td>1</td>\n",
              "      <td>1</td>\n",
              "      <td>1</td>\n",
              "      <td>0</td>\n",
              "      <td>1</td>\n",
              "      <td>1</td>\n",
              "      <td>1</td>\n",
              "      <td>1</td>\n",
              "      <td>1</td>\n",
              "      <td>1</td>\n",
              "      <td>1</td>\n",
              "      <td>1</td>\n",
              "      <td>1</td>\n",
              "      <td>1</td>\n",
              "      <td>1</td>\n",
              "      <td>1</td>\n",
              "      <td>1</td>\n",
              "      <td>1</td>\n",
              "      <td>1</td>\n",
              "    </tr>\n",
              "    <tr>\n",
              "      <th>Blackburn (R-TN)</th>\n",
              "      <td>0</td>\n",
              "      <td>0</td>\n",
              "      <td>0</td>\n",
              "      <td>0</td>\n",
              "      <td>1</td>\n",
              "      <td>0</td>\n",
              "      <td>0</td>\n",
              "      <td>0</td>\n",
              "      <td>0</td>\n",
              "      <td>0</td>\n",
              "      <td>0</td>\n",
              "      <td>0</td>\n",
              "      <td>0</td>\n",
              "      <td>1</td>\n",
              "      <td>1</td>\n",
              "      <td>1</td>\n",
              "      <td>1</td>\n",
              "      <td>1</td>\n",
              "      <td>1</td>\n",
              "      <td>1</td>\n",
              "      <td>1</td>\n",
              "      <td>1</td>\n",
              "      <td>1</td>\n",
              "      <td>1</td>\n",
              "      <td>1</td>\n",
              "      <td>1</td>\n",
              "      <td>1</td>\n",
              "      <td>1</td>\n",
              "      <td>1</td>\n",
              "      <td>1</td>\n",
              "      <td>1</td>\n",
              "      <td>1</td>\n",
              "      <td>1</td>\n",
              "      <td>1</td>\n",
              "      <td>1</td>\n",
              "      <td>1</td>\n",
              "      <td>1</td>\n",
              "      <td>1</td>\n",
              "      <td>1</td>\n",
              "      <td>1</td>\n",
              "      <td>...</td>\n",
              "      <td>0</td>\n",
              "      <td>0</td>\n",
              "      <td>0</td>\n",
              "      <td>0</td>\n",
              "      <td>0</td>\n",
              "      <td>0</td>\n",
              "      <td>0</td>\n",
              "      <td>0</td>\n",
              "      <td>0</td>\n",
              "      <td>0</td>\n",
              "      <td>0</td>\n",
              "      <td>0</td>\n",
              "      <td>1</td>\n",
              "      <td>1</td>\n",
              "      <td>0</td>\n",
              "      <td>0</td>\n",
              "      <td>0</td>\n",
              "      <td>0</td>\n",
              "      <td>0</td>\n",
              "      <td>0</td>\n",
              "      <td>0</td>\n",
              "      <td>0</td>\n",
              "      <td>0</td>\n",
              "      <td>0</td>\n",
              "      <td>0</td>\n",
              "      <td>1</td>\n",
              "      <td>0</td>\n",
              "      <td>0</td>\n",
              "      <td>0</td>\n",
              "      <td>0</td>\n",
              "      <td>0</td>\n",
              "      <td>0</td>\n",
              "      <td>0</td>\n",
              "      <td>0</td>\n",
              "      <td>0</td>\n",
              "      <td>0</td>\n",
              "      <td>0</td>\n",
              "      <td>0</td>\n",
              "      <td>0</td>\n",
              "      <td>0</td>\n",
              "    </tr>\n",
              "    <tr>\n",
              "      <th>Blumenthal (D-CT)</th>\n",
              "      <td>0</td>\n",
              "      <td>0</td>\n",
              "      <td>1</td>\n",
              "      <td>0</td>\n",
              "      <td>1</td>\n",
              "      <td>1</td>\n",
              "      <td>1</td>\n",
              "      <td>1</td>\n",
              "      <td>1</td>\n",
              "      <td>1</td>\n",
              "      <td>1</td>\n",
              "      <td>1</td>\n",
              "      <td>1</td>\n",
              "      <td>1</td>\n",
              "      <td>0</td>\n",
              "      <td>1</td>\n",
              "      <td>0</td>\n",
              "      <td>0</td>\n",
              "      <td>1</td>\n",
              "      <td>0</td>\n",
              "      <td>1</td>\n",
              "      <td>1</td>\n",
              "      <td>0</td>\n",
              "      <td>0</td>\n",
              "      <td>0</td>\n",
              "      <td>1</td>\n",
              "      <td>1</td>\n",
              "      <td>0</td>\n",
              "      <td>0</td>\n",
              "      <td>1</td>\n",
              "      <td>0</td>\n",
              "      <td>0</td>\n",
              "      <td>0</td>\n",
              "      <td>0</td>\n",
              "      <td>1</td>\n",
              "      <td>0</td>\n",
              "      <td>0</td>\n",
              "      <td>0</td>\n",
              "      <td>0</td>\n",
              "      <td>0</td>\n",
              "      <td>...</td>\n",
              "      <td>1</td>\n",
              "      <td>1</td>\n",
              "      <td>1</td>\n",
              "      <td>1</td>\n",
              "      <td>1</td>\n",
              "      <td>1</td>\n",
              "      <td>1</td>\n",
              "      <td>1</td>\n",
              "      <td>1</td>\n",
              "      <td>1</td>\n",
              "      <td>1</td>\n",
              "      <td>1</td>\n",
              "      <td>1</td>\n",
              "      <td>1</td>\n",
              "      <td>1</td>\n",
              "      <td>1</td>\n",
              "      <td>1</td>\n",
              "      <td>1</td>\n",
              "      <td>1</td>\n",
              "      <td>1</td>\n",
              "      <td>1</td>\n",
              "      <td>1</td>\n",
              "      <td>1</td>\n",
              "      <td>1</td>\n",
              "      <td>0</td>\n",
              "      <td>1</td>\n",
              "      <td>1</td>\n",
              "      <td>1</td>\n",
              "      <td>1</td>\n",
              "      <td>1</td>\n",
              "      <td>1</td>\n",
              "      <td>1</td>\n",
              "      <td>1</td>\n",
              "      <td>1</td>\n",
              "      <td>1</td>\n",
              "      <td>1</td>\n",
              "      <td>1</td>\n",
              "      <td>1</td>\n",
              "      <td>1</td>\n",
              "      <td>1</td>\n",
              "    </tr>\n",
              "  </tbody>\n",
              "</table>\n",
              "<p>5 rows × 265 columns</p>\n",
              "</div>"
            ],
            "text/plain": [
              "                   1    2    3    4    5    6    ...  260  261  262  263  264  265\n",
              "Baldwin (D-WI)       0    0    1    0    1    1  ...    1    1    1    1    1    1\n",
              "Barrasso (R-WY)      0    0    1    0    1    0  ...    0    0    0    1    0    1\n",
              "Bennet (D-CO)        0    0    1    1    1    1  ...    1    1    1    1    1    1\n",
              "Blackburn (R-TN)     0    0    0    0    1    0  ...    0    0    0    0    0    0\n",
              "Blumenthal (D-CT)    0    0    1    0    1    1  ...    1    1    1    1    1    1\n",
              "\n",
              "[5 rows x 265 columns]"
            ]
          },
          "metadata": {
            "tags": []
          },
          "execution_count": 161
        }
      ]
    },
    {
      "cell_type": "code",
      "metadata": {
        "id": "dC4uzoN8L1bZ",
        "colab": {
          "base_uri": "https://localhost:8080/"
        },
        "outputId": "c7cdb85e-b3dc-4bc4-e84c-bba45e1d74fa"
      },
      "source": [
        "voting.shape"
      ],
      "execution_count": null,
      "outputs": [
        {
          "output_type": "execute_result",
          "data": {
            "text/plain": [
              "(100, 265)"
            ]
          },
          "metadata": {
            "tags": []
          },
          "execution_count": 162
        }
      ]
    },
    {
      "cell_type": "markdown",
      "metadata": {
        "id": "Rd19HLgTL8aB"
      },
      "source": [
        "\n",
        "\n",
        "---\n",
        "\n",
        "\n",
        "## **3. Exploratory Data Analysis**"
      ]
    },
    {
      "cell_type": "markdown",
      "metadata": {
        "id": "U_Q7P5dSNqK1"
      },
      "source": [
        "### **3.1 Investigate Voting Congruence Between Individual Senators**"
      ]
    },
    {
      "cell_type": "code",
      "metadata": {
        "id": "d2doS-N0R0P0"
      },
      "source": [
        "#Create a function to allow comparison of voting between two senators\n",
        "\n",
        "def two_senator_comparison(senator_a, senator_b):\n",
        "  a = voting.loc[senator_a]\n",
        "  b = voting.loc[senator_b]\n",
        "\n",
        "  confusion_matrix = pd.crosstab(a, b)\n",
        "\n",
        "  sns.heatmap(confusion_matrix,  fmt='g', cmap='crest', annot=True, cbar=False)\n",
        "  plt.ylim(0,2)\n",
        "  plt.xlim(2,0)\n",
        "  plt.show()"
      ],
      "execution_count": null,
      "outputs": []
    },
    {
      "cell_type": "markdown",
      "metadata": {
        "id": "b0xA2zHkR0kg"
      },
      "source": [
        "**3.1.1 Comparison of Bernie Sanders and Ted Cruz**"
      ]
    },
    {
      "cell_type": "code",
      "metadata": {
        "id": "X7-RPhTqL74P",
        "colab": {
          "base_uri": "https://localhost:8080/",
          "height": 279
        },
        "outputId": "91a3f32d-226e-4176-cb2c-5a6d7e196840"
      },
      "source": [
        "two_senator_comparison('Sanders (I-VT)','Cruz (R-TX)')"
      ],
      "execution_count": null,
      "outputs": [
        {
          "output_type": "display_data",
          "data": {
            "image/png": "[encoded data removed]",
            "text/plain": [
              "<Figure size 432x288 with 1 Axes>"
            ]
          },
          "metadata": {
            "tags": [],
            "needs_background": "light"
          }
        }
      ]
    },
    {
      "cell_type": "markdown",
      "metadata": {
        "id": "6EV4CdKgS6gX"
      },
      "source": [
        "Out of 265 votes, they agreed 30 times.  It is safe to say that they do not agree on much."
      ]
    },
    {
      "cell_type": "markdown",
      "metadata": {
        "id": "gEIbpciKTO2c"
      },
      "source": [
        "**3.1.2 Comparison of Bernie Sanders and Elizabeth Warren**"
      ]
    },
    {
      "cell_type": "code",
      "metadata": {
        "id": "d0WEHOD4TPFq",
        "colab": {
          "base_uri": "https://localhost:8080/",
          "height": 279
        },
        "outputId": "336b87ab-1cb9-4aba-fb3c-76bd069ff1ff"
      },
      "source": [
        "two_senator_comparison('Sanders (I-VT)','Warren (D-MA)')"
      ],
      "execution_count": null,
      "outputs": [
        {
          "output_type": "display_data",
          "data": {
            "image/png": "[encoded data removed]",
            "text/plain": [
              "<Figure size 432x288 with 1 Axes>"
            ]
          },
          "metadata": {
            "tags": [],
            "needs_background": "light"
          }
        }
      ]
    },
    {
      "cell_type": "markdown",
      "metadata": {
        "id": "s9oB26nYTPND"
      },
      "source": [
        "Bernie Sanders and Elizabeth Warren agreed on 252 out of 265 votes.  It is safe to say that they are fairly aligned."
      ]
    },
    {
      "cell_type": "markdown",
      "metadata": {
        "id": "KWRgJvGhTs6T"
      },
      "source": [
        "**3.1.3 Comparison of Mitt Romney and Ted Cruz**"
      ]
    },
    {
      "cell_type": "code",
      "metadata": {
        "id": "QdeR2_JETtEk",
        "colab": {
          "base_uri": "https://localhost:8080/",
          "height": 279
        },
        "outputId": "e618d08f-cd17-4768-c854-dc2722606d0c"
      },
      "source": [
        "two_senator_comparison('Romney (R-UT)','Cruz (R-TX)')"
      ],
      "execution_count": null,
      "outputs": [
        {
          "output_type": "display_data",
          "data": {
            "image/png": "[encoded data removed]",
            "text/plain": [
              "<Figure size 432x288 with 1 Axes>"
            ]
          },
          "metadata": {
            "tags": [],
            "needs_background": "light"
          }
        }
      ]
    },
    {
      "cell_type": "markdown",
      "metadata": {
        "id": "xOcTzaSNTtxd"
      },
      "source": [
        "Agreement on 175 out of 265 votes.  For two senators in the same party, there appears to be significant disagreement."
      ]
    },
    {
      "cell_type": "markdown",
      "metadata": {
        "id": "nXti6GQPUmA7"
      },
      "source": [
        "**3.1.4 Comparison of John Cornyn and Ted Cruz, both Texas senators**"
      ]
    },
    {
      "cell_type": "code",
      "metadata": {
        "id": "ZTyRf7hPUmTa",
        "colab": {
          "base_uri": "https://localhost:8080/",
          "height": 279
        },
        "outputId": "df598f34-711b-4ded-c20c-fe874aef383f"
      },
      "source": [
        "two_senator_comparison('Cruz (R-TX)','Cornyn (R-TX)')"
      ],
      "execution_count": null,
      "outputs": [
        {
          "output_type": "display_data",
          "data": {
            "image/png": "[encoded data removed]",
            "text/plain": [
              "<Figure size 432x288 with 1 Axes>"
            ]
          },
          "metadata": {
            "tags": [],
            "needs_background": "light"
          }
        }
      ]
    },
    {
      "cell_type": "markdown",
      "metadata": {
        "id": "QDq6efpeVzt5"
      },
      "source": [
        "Agreement on 198 out of 265.  Closer than agreement beween Mitt Romney and Ted Cruz, but not approaching the level of Bernie Sanders and Elizabeth Warren."
      ]
    },
    {
      "cell_type": "markdown",
      "metadata": {
        "id": "DUKMeJJ3WB7F"
      },
      "source": [
        "**3.2 Yea votes by Vote**"
      ]
    },
    {
      "cell_type": "code",
      "metadata": {
        "id": "IVS3NAFtWCcn",
        "colab": {
          "base_uri": "https://localhost:8080/",
          "height": 575
        },
        "outputId": "ba975343-3b13-4029-8c16-5f8697f96721"
      },
      "source": [
        "#Looking at all the Senate votes, with 'Yays' in blue.\n",
        "votes = voting.sum(axis=0)\n",
        "plt.figure(figsize=(24, 10))\n",
        "ax = sns.barplot(x=votes, y=votes.index, orient='h', color='darkblue')\n",
        "ax.set(yticks=[])\n",
        "plt.show()"
      ],
      "execution_count": null,
      "outputs": [
        {
          "output_type": "display_data",
          "data": {
            "image/png": "[encoded data removed]",
            "text/plain": [
              "<Figure size 1728x720 with 1 Axes>"
            ]
          },
          "metadata": {
            "tags": [],
            "needs_background": "light"
          }
        }
      ]
    },
    {
      "cell_type": "markdown",
      "metadata": {
        "id": "Kc1EIEpwpCWL"
      },
      "source": [
        "Not surprisingly, much of the voting is split, but there appear to be many votes that deviate significantly from party voting."
      ]
    },
    {
      "cell_type": "markdown",
      "metadata": {
        "id": "b5DMz9HRpPzd"
      },
      "source": [
        "**3.3  Histogram of Yay Votes**"
      ]
    },
    {
      "cell_type": "code",
      "metadata": {
        "id": "R5j_gP4SpWYs",
        "colab": {
          "base_uri": "https://localhost:8080/",
          "height": 497
        },
        "outputId": "65d4e17c-fea2-432e-8256-7ba91b9aae32"
      },
      "source": [
        "plt.figure(figsize=(12, 8))\n",
        "plt.hist(votes, bins=30)\n",
        "plt.xlabel('Yay Votes')\n",
        "plt.ylabel('Number of Senate Votes')\n",
        "#plt.xticks([])\n",
        "plt.show()"
      ],
      "execution_count": null,
      "outputs": [
        {
          "output_type": "display_data",
          "data": {
            "image/png": "[encoded data removed]",
            "text/plain": [
              "<Figure size 864x576 with 1 Axes>"
            ]
          },
          "metadata": {
            "tags": [],
            "needs_background": "light"
          }
        }
      ]
    },
    {
      "cell_type": "markdown",
      "metadata": {
        "id": "0Yay-BoLprmv"
      },
      "source": [
        "The histogram of 'Yay' votes reveals some interesting groupings.  First, the most common votes are around the 50 mark, indicating support from one or other (but not both) parties.  This can be viewed as partisan votes.  Secondly, there exists to the left several votes with very few 'Yays', indicating votes without party support.  It will be interesting to see who voted 'Yay' in these sessions.  Finally, to the right, there are a significant number of votes with cross party support."
      ]
    },
    {
      "cell_type": "markdown",
      "metadata": {
        "id": "F-xDBws0tsw2"
      },
      "source": [
        "**3.4  Number of Republics, Democrats and Indepenents**"
      ]
    },
    {
      "cell_type": "code",
      "metadata": {
        "id": "H1CowO7_ttHB",
        "colab": {
          "base_uri": "https://localhost:8080/"
        },
        "outputId": "a56d0138-1927-46ac-8643-747c6087c8d3"
      },
      "source": [
        "voting.index"
      ],
      "execution_count": null,
      "outputs": [
        {
          "output_type": "execute_result",
          "data": {
            "text/plain": [
              "Index(['Baldwin (D-WI)', 'Barrasso (R-WY)', 'Bennet (D-CO)',\n",
              "       'Blackburn (R-TN)', 'Blumenthal (D-CT)', 'Blunt (R-MO)',\n",
              "       'Booker (D-NJ)', 'Boozman (R-AR)', 'Braun (R-IN)', 'Brown (D-OH)',\n",
              "       'Burr (R-NC)', 'Cantwell (D-WA)', 'Capito (R-WV)', 'Cardin (D-MD)',\n",
              "       'Carper (D-DE)', 'Casey (D-PA)', 'Cassidy (R-LA)', 'Collins (R-ME)',\n",
              "       'Coons (D-DE)', 'Cornyn (R-TX)', 'Cortez Masto (D-NV)', 'Cotton (R-AR)',\n",
              "       'Cramer (R-ND)', 'Crapo (R-ID)', 'Cruz (R-TX)', 'Daines (R-MT)',\n",
              "       'Duckworth (D-IL)', 'Durbin (D-IL)', 'Ernst (R-IA)', 'Feinstein (D-CA)',\n",
              "       'Fischer (R-NE)', 'Gillibrand (D-NY)', 'Graham (R-SC)',\n",
              "       'Grassley (R-IA)', 'Hagerty (R-TN)', 'Hassan (D-NH)', 'Hawley (R-MO)',\n",
              "       'Heinrich (D-NM)', 'Hickenlooper (D-CO)', 'Hirono (D-HI)',\n",
              "       'Hoeven (R-ND)', 'Hyde-Smith (R-MS)', 'Inhofe (R-OK)', 'Johnson (R-WI)',\n",
              "       'Kaine (D-VA)', 'Kelly (D-AZ)', 'Kennedy (R-LA)', 'King (I-ME)',\n",
              "       'Klobuchar (D-MN)', 'Lankford (R-OK)', 'Leahy (D-VT)', 'Lee (R-UT)',\n",
              "       'Lujan (D-NM)', 'Lummis (R-WY)', 'Manchin (D-WV)', 'Markey (D-MA)',\n",
              "       'Marshall (R-KS)', 'McConnell (R-KY)', 'Menendez (D-NJ)',\n",
              "       'Merkley (D-OR)', 'Moran (R-KS)', 'Murkowski (R-AK)', 'Murphy (D-CT)',\n",
              "       'Murray (D-WA)', 'Paul (R-KY)', 'Peters (D-MI)', 'Portman (R-OH)',\n",
              "       'Reed (D-RI)', 'Risch (R-ID)', 'Romney (R-UT)', 'Rosen (D-NV)',\n",
              "       'Rounds (R-SD)', 'Rubio (R-FL)', 'Sanders (I-VT)', 'Sasse (R-NE)',\n",
              "       'Schatz (D-HI)', 'Schumer (D-NY)', 'Scott (R-FL)', 'Scott (R-SC)',\n",
              "       'Shaheen (D-NH)', 'Shelby (R-AL)', 'Sinema (D-AZ)', 'Smith (D-MN)',\n",
              "       'Stabenow (D-MI)', 'Sullivan (R-AK)', 'Tester (D-MT)', 'Thune (R-SD)',\n",
              "       'Tillis (R-NC)', 'Toomey (R-PA)', 'Tuberville (R-AL)',\n",
              "       'Van Hollen (D-MD)', 'Warner (D-VA)', 'Warren (D-MA)',\n",
              "       'Whitehouse (D-RI)', 'Wicker (R-MS)', 'Wyden (D-OR)', 'Young (R-IN)',\n",
              "       'Ossoff (D-GA)', 'Padilla (D-CA)', 'Warnock (D-GA)'],\n",
              "      dtype='object')"
            ]
          },
          "metadata": {
            "tags": []
          },
          "execution_count": 172
        }
      ]
    },
    {
      "cell_type": "code",
      "metadata": {
        "id": "fxdghwXxvOLO"
      },
      "source": [
        "party = {'Democrats':0,\n",
        "         'Republicans':0, \n",
        "         'Independents':0}\n",
        "\n",
        "for senator in list(voting.index):\n",
        "  if '(D' in senator:\n",
        "    party['Democrats'] = party['Democrats'] + 1\n",
        "  elif'(R' in senator:\n",
        "    party['Republicans'] = party['Republicans'] + 1\n",
        "  else:\n",
        "    party['Independents'] = party['Independents'] + 1"
      ],
      "execution_count": null,
      "outputs": []
    },
    {
      "cell_type": "code",
      "metadata": {
        "id": "gKz_ajRV2od2",
        "colab": {
          "base_uri": "https://localhost:8080/",
          "height": 265
        },
        "outputId": "c2cb187c-1b7b-4615-df1d-20585a6b6472"
      },
      "source": [
        "keys = list(party.keys())\n",
        "vals = [party[k] for k in keys]\n",
        "sns.barplot(y=keys, x=vals, orient='h', order=['Republicans', 'Democrats', 'Independents'])\n",
        "plt.show()"
      ],
      "execution_count": null,
      "outputs": [
        {
          "output_type": "display_data",
          "data": {
            "image/png": "[encoded data removed]",
            "text/plain": [
              "<Figure size 432x288 with 1 Axes>"
            ]
          },
          "metadata": {
            "tags": [],
            "needs_background": "light"
          }
        }
      ]
    },
    {
      "cell_type": "markdown",
      "metadata": {
        "id": "KepqazZ96HUR"
      },
      "source": [
        "**3.5  Yay Votes by Senator**"
      ]
    },
    {
      "cell_type": "code",
      "metadata": {
        "id": "WmYgn9RD6Hba",
        "colab": {
          "base_uri": "https://localhost:8080/",
          "height": 1000
        },
        "outputId": "a4ea7e7d-5c75-4ead-9532-f2dead7f91eb"
      },
      "source": [
        "sen_voting = voting.sum(axis=1)\n",
        "sen_voting.sort_values(ascending=False, inplace=True)\n",
        "plt.figure(figsize=(20,30))\n",
        "sns.barplot(x=sen_voting, y=sen_voting.index, orient='h', color='darkblue')\n",
        "plt.show()"
      ],
      "execution_count": null,
      "outputs": [
        {
          "output_type": "display_data",
          "data": {
            "image/png": "[encoded data removed]",
            "text/plain": [
              "<Figure size 1440x2160 with 1 Axes>"
            ]
          },
          "metadata": {
            "tags": [],
            "needs_background": "light"
          }
        }
      ]
    },
    {
      "cell_type": "markdown",
      "metadata": {
        "id": "ZzQPo7j-8Nd8"
      },
      "source": [
        "This is interesting, more from the Republican side than the Democrat.  Collins, Murkowsky and Romney all lead the way in 'Yea' votes, while the least number of 'Yea' votes also came from Republicans, namely Paul, Hawley and Cruz.  It would appear that there may be a split within the Republican party. Booker from New Jersey is the least 'Democratic' Democrat in terms of having the lowest number of 'Yea' votes, but he does not have an extreme position. Right next to him?  Bernie Sanders."
      ]
    },
    {
      "cell_type": "markdown",
      "metadata": {
        "id": "Q0pDhU9DPH8y"
      },
      "source": [
        "## **4. Modeling**"
      ]
    },
    {
      "cell_type": "markdown",
      "metadata": {
        "id": "ImgZqSkj8o0P"
      },
      "source": [
        "### **4.1 Principal Component Analysis (PCA)**"
      ]
    },
    {
      "cell_type": "code",
      "metadata": {
        "id": "9GjeiyDtGpBq",
        "colab": {
          "base_uri": "https://localhost:8080/"
        },
        "outputId": "1d84aebf-c057-4998-8c44-0cd8bd7831f8"
      },
      "source": [
        "pca = PCA(n_components=2)\n",
        "principalComponents = pca.fit_transform(voting)\n",
        "principalDf = pd.DataFrame(data = principalComponents, \n",
        "                           columns = ['principal component 1', 'principal component 2'], \n",
        "                           index=voting.index)\n",
        "\n",
        "print(pca.explained_variance_ratio_)"
      ],
      "execution_count": null,
      "outputs": [
        {
          "output_type": "stream",
          "text": [
            "[0.75471559 0.04811854]\n"
          ],
          "name": "stdout"
        }
      ]
    },
    {
      "cell_type": "markdown",
      "metadata": {
        "id": "gm4hR37KU_ip"
      },
      "source": [
        "The explained variance for the two components is 0.755 and 0.048, for a total of 0.8.  Principal component 1 is accounts for most of the difference between the groups, and is shown in the graph below as the divisor between Democrats on the left and Republicans on the right."
      ]
    },
    {
      "cell_type": "code",
      "metadata": {
        "id": "-iyCKdIvG5qg",
        "colab": {
          "base_uri": "https://localhost:8080/",
          "height": 497
        },
        "outputId": "9709a389-0881-4dcc-e549-2fb5d4ba1e8a"
      },
      "source": [
        "plt.figure(figsize=(12, 8))\n",
        "sns.scatterplot(x='principal component 1', y='principal component 2', data=principalDf)\n",
        "plt.show()"
      ],
      "execution_count": null,
      "outputs": [
        {
          "output_type": "display_data",
          "data": {
            "image/png": "[encoded data removed]",
            "text/plain": [
              "<Figure size 864x576 with 1 Axes>"
            ]
          },
          "metadata": {
            "tags": [],
            "needs_background": "light"
          }
        }
      ]
    },
    {
      "cell_type": "markdown",
      "metadata": {
        "id": "GtLNVNQgQKrI"
      },
      "source": [
        "Clearly there are some groupings involved.  On the left is the Democratic Party senators, who show very little variability amongst themselves.  On the other hand, there is wide variability among the Republican Senators, with one seemingly cast adrift in the middle."
      ]
    },
    {
      "cell_type": "code",
      "metadata": {
        "id": "yspYRvo8JyML",
        "colab": {
          "base_uri": "https://localhost:8080/",
          "height": 759
        },
        "outputId": "6ed9a3e4-15fd-48e7-c902-53e5ddefc254"
      },
      "source": [
        "#Same graph, but with Senator names attached\n",
        "\n",
        "ax = sns.lmplot(x='principal component 1', \n",
        "           y='principal component 2', \n",
        "           data=principalDf,\n",
        "           fit_reg=False, \n",
        "           height = 10,\n",
        "           aspect = 1.5) \n",
        "\n",
        "plt.title('Senatorial Voting')\n",
        "plt.xlabel('Principal Component 1')\n",
        "plt.ylabel('Principal Component 2')\n",
        "\n",
        "principalDf['Senator'] = principalDf.index\n",
        "pc1 = principalDf['principal component 1']\n",
        "pc2 = principalDf['principal component 2']\n",
        "names = principalDf['Senator']\n",
        "\n",
        "#Adds Senator names to scatter plot.\n",
        "def label_point(x, y, val, ax):\n",
        "    a = pd.concat({'x': x, 'y': y, 'val': val}, axis=1)\n",
        "    for i, point in a.iterrows():\n",
        "        ax.text(point['x']+.1, point['y'], str(point['val']), fontsize='small' )\n",
        "\n",
        "label_point(pc1, pc2, names, plt.gca()) "
      ],
      "execution_count": null,
      "outputs": [
        {
          "output_type": "display_data",
          "data": {
            "image/png": "[encoded data removed]",
            "text/plain": [
              "<Figure size 1080x720 with 1 Axes>"
            ]
          },
          "metadata": {
            "tags": [],
            "needs_background": "light"
          }
        }
      ]
    },
    {
      "cell_type": "code",
      "metadata": {
        "id": "HDZFlfUeX2xl",
        "colab": {
          "base_uri": "https://localhost:8080/",
          "height": 279
        },
        "outputId": "caad219f-d1fb-4e21-9605-75bd1e81db11"
      },
      "source": [
        "two_senator_comparison('Collins (R-ME)','Murkowski (R-AK)')"
      ],
      "execution_count": null,
      "outputs": [
        {
          "output_type": "display_data",
          "data": {
            "image/png": "[encoded data removed]",
            "text/plain": [
              "<Figure size 432x288 with 1 Axes>"
            ]
          },
          "metadata": {
            "tags": [],
            "needs_background": "light"
          }
        }
      ]
    },
    {
      "cell_type": "code",
      "metadata": {
        "id": "KzBijZ-YUDKe",
        "colab": {
          "base_uri": "https://localhost:8080/",
          "height": 279
        },
        "outputId": "50fe4a2d-97db-431b-8ea6-6ce6d0f788cc"
      },
      "source": [
        "two_senator_comparison('Sullivan (R-AK)','Paul (R-KY)')"
      ],
      "execution_count": null,
      "outputs": [
        {
          "output_type": "display_data",
          "data": {
            "image/png": "[encoded data removed]",
            "text/plain": [
              "<Figure size 432x288 with 1 Axes>"
            ]
          },
          "metadata": {
            "tags": [],
            "needs_background": "light"
          }
        }
      ]
    },
    {
      "cell_type": "markdown",
      "metadata": {
        "id": "a7vyoH8_YHUy"
      },
      "source": [
        "### **4.2 KMeans Clustering**"
      ]
    },
    {
      "cell_type": "code",
      "metadata": {
        "id": "EJ0S8DJAYOyE"
      },
      "source": [
        "kmeans = KMeans(n_clusters=5, random_state=0).fit(voting)\n",
        "voting_prep = voting.index\n",
        "labs = kmeans.labels_\n",
        "#voting_prep\n",
        "principalDf['Label'] = list(kmeans.labels_)"
      ],
      "execution_count": null,
      "outputs": []
    },
    {
      "cell_type": "code",
      "metadata": {
        "id": "JzHY8363azmR",
        "colab": {
          "base_uri": "https://localhost:8080/",
          "height": 632
        },
        "outputId": "34c289d5-16b0-418e-ddc1-fa547952860b"
      },
      "source": [
        "fig = plt.figure(figsize = (18, 10))\n",
        "ax = fig.add_subplot(1,1,1) \n",
        "ax.set_xlabel('Principal Component 1', fontsize = 15)\n",
        "ax.set_ylabel('Principal Component 2', fontsize = 15)\n",
        "ax.set_title('Senatorial Groupings', fontsize = 20)\n",
        "\n",
        "targets = [0,1,2,3,4]\n",
        "target_labels = ['Moderate Republicans', 'Democrats', 'Centrist Republican', 'Anti-Establishment', 'Dan Sullivan (R-AK)']\n",
        "colors = ['r', 'g', 'b', 'y', 'c', 'm']\n",
        "\n",
        "for target, color in zip(targets,colors):\n",
        "    indicesToKeep = principalDf['Label'] == target\n",
        "    ax.scatter(principalDf.loc[indicesToKeep, 'principal component 1']\n",
        "               , principalDf.loc[indicesToKeep, 'principal component 2']\n",
        "               , c = color\n",
        "               , s = 35)\n",
        "ax.legend(target_labels)\n",
        "ax.grid()"
      ],
      "execution_count": null,
      "outputs": [
        {
          "output_type": "display_data",
          "data": {
            "image/png": "[encoded data removed]",
            "text/plain": [
              "<Figure size 1296x720 with 1 Axes>"
            ]
          },
          "metadata": {
            "tags": [],
            "needs_background": "light"
          }
        }
      ]
    },
    {
      "cell_type": "markdown",
      "metadata": {
        "id": "mTbO__b9PGq5"
      },
      "source": [
        "I have chosen five clusters as being most representative of the findings.  The Democrats are their own cluster with little variance.  Dan Sullivan of Alaska is his own cluster in the middle, and the rest of the Republican party can be split into Moderates, Centrists and Anti-Establishment.\n",
        "\n",
        "Read this article to learn more about some of the moderate Republicans.  This clustering has apparently been very accurate in identifying the group.  https://thehill.com/homenews/senate/547063-moderate-gop-senators-and-biden-clash-at-start-of-infrastructure-debate"
      ]
    }
  ]
}